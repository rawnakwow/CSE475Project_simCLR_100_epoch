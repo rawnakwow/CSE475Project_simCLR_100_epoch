{
 "cells": [
  {
   "cell_type": "code",
   "execution_count": 2,
   "id": "5c969ef5",
   "metadata": {
    "execution": {
     "iopub.execute_input": "2025-08-17T01:12:18.185713Z",
     "iopub.status.busy": "2025-08-17T01:12:18.185068Z",
     "iopub.status.idle": "2025-08-17T06:58:13.905248Z",
     "shell.execute_reply": "2025-08-17T06:58:13.904381Z"
    },
    "papermill": {
     "duration": 20758.466297,
     "end_time": "2025-08-17T06:58:16.471298",
     "exception": false,
     "start_time": "2025-08-17T01:12:18.005001",
     "status": "completed"
    },
    "tags": []
   },
   "outputs": [
    {
     "name": "stdout",
     "output_type": "stream",
     "text": [
      "# **Set Up**\n",
      "Device: cuda\n",
      "\n",
      "# **Data & Augmentations**\n",
      "SimCLR pretext samples: 19000 | BATCH_SIZE=64\n",
      "\n",
      "# **Model (SimCLR)**\n",
      "\n",
      "# **Training (Pretext)**\n"
     ]
    },
    {
     "name": "stderr",
     "output_type": "stream",
     "text": [
      "/usr/local/lib/python3.11/dist-packages/torchvision/models/_utils.py:208: UserWarning: The parameter 'pretrained' is deprecated since 0.13 and may be removed in the future, please use 'weights' instead.\n",
      "  warnings.warn(\n",
      "/usr/local/lib/python3.11/dist-packages/torchvision/models/_utils.py:223: UserWarning: Arguments other than a weight enum or `None` for 'weights' are deprecated since 0.13 and may be removed in the future. The current behavior is equivalent to passing `weights=None`.\n",
      "  warnings.warn(msg)\n",
      "                                                                                   \r"
     ]
    },
    {
     "name": "stdout",
     "output_type": "stream",
     "text": [
      "Epoch 001 | NT-Xent Loss: 4.3036\n"
     ]
    },
    {
     "name": "stderr",
     "output_type": "stream",
     "text": [
      "                                                                                   \r"
     ]
    },
    {
     "name": "stdout",
     "output_type": "stream",
     "text": [
      "Epoch 002 | NT-Xent Loss: 3.8241\n"
     ]
    },
    {
     "name": "stderr",
     "output_type": "stream",
     "text": [
      "                                                                                   \r"
     ]
    },
    {
     "name": "stdout",
     "output_type": "stream",
     "text": [
      "Epoch 003 | NT-Xent Loss: 3.7018\n"
     ]
    },
    {
     "name": "stderr",
     "output_type": "stream",
     "text": [
      "                                                                                   \r"
     ]
    },
    {
     "name": "stdout",
     "output_type": "stream",
     "text": [
      "Epoch 004 | NT-Xent Loss: 3.6390\n"
     ]
    },
    {
     "name": "stderr",
     "output_type": "stream",
     "text": [
      "                                                                                   \r"
     ]
    },
    {
     "name": "stdout",
     "output_type": "stream",
     "text": [
      "Epoch 005 | NT-Xent Loss: 3.6150\n"
     ]
    },
    {
     "name": "stderr",
     "output_type": "stream",
     "text": [
      "                                                                                   \r"
     ]
    },
    {
     "name": "stdout",
     "output_type": "stream",
     "text": [
      "Epoch 006 | NT-Xent Loss: 3.5811\n"
     ]
    },
    {
     "name": "stderr",
     "output_type": "stream",
     "text": [
      "                                                                                   \r"
     ]
    },
    {
     "name": "stdout",
     "output_type": "stream",
     "text": [
      "Epoch 007 | NT-Xent Loss: 3.5688\n"
     ]
    },
    {
     "name": "stderr",
     "output_type": "stream",
     "text": [
      "                                                                                   \r"
     ]
    },
    {
     "name": "stdout",
     "output_type": "stream",
     "text": [
      "Epoch 008 | NT-Xent Loss: 3.5360\n"
     ]
    },
    {
     "name": "stderr",
     "output_type": "stream",
     "text": [
      "                                                                                   \r"
     ]
    },
    {
     "name": "stdout",
     "output_type": "stream",
     "text": [
      "Epoch 009 | NT-Xent Loss: 3.4951\n"
     ]
    },
    {
     "name": "stderr",
     "output_type": "stream",
     "text": [
      "                                                                                    \r"
     ]
    },
    {
     "name": "stdout",
     "output_type": "stream",
     "text": [
      "Epoch 010 | NT-Xent Loss: 3.4874\n"
     ]
    },
    {
     "name": "stderr",
     "output_type": "stream",
     "text": [
      "                                                                                    \r"
     ]
    },
    {
     "name": "stdout",
     "output_type": "stream",
     "text": [
      "Epoch 011 | NT-Xent Loss: 3.4698\n"
     ]
    },
    {
     "name": "stderr",
     "output_type": "stream",
     "text": [
      "                                                                                    \r"
     ]
    },
    {
     "name": "stdout",
     "output_type": "stream",
     "text": [
      "Epoch 012 | NT-Xent Loss: 3.4401\n"
     ]
    },
    {
     "name": "stderr",
     "output_type": "stream",
     "text": [
      "                                                                                    \r"
     ]
    },
    {
     "name": "stdout",
     "output_type": "stream",
     "text": [
      "Epoch 013 | NT-Xent Loss: 3.4186\n"
     ]
    },
    {
     "name": "stderr",
     "output_type": "stream",
     "text": [
      "                                                                                    \r"
     ]
    },
    {
     "name": "stdout",
     "output_type": "stream",
     "text": [
      "Epoch 014 | NT-Xent Loss: 3.4030\n"
     ]
    },
    {
     "name": "stderr",
     "output_type": "stream",
     "text": [
      "                                                                                    \r"
     ]
    },
    {
     "name": "stdout",
     "output_type": "stream",
     "text": [
      "Epoch 015 | NT-Xent Loss: 3.4045\n"
     ]
    },
    {
     "name": "stderr",
     "output_type": "stream",
     "text": [
      "                                                                                    \r"
     ]
    },
    {
     "name": "stdout",
     "output_type": "stream",
     "text": [
      "Epoch 016 | NT-Xent Loss: 3.3811\n"
     ]
    },
    {
     "name": "stderr",
     "output_type": "stream",
     "text": [
      "                                                                                    \r"
     ]
    },
    {
     "name": "stdout",
     "output_type": "stream",
     "text": [
      "Epoch 017 | NT-Xent Loss: 3.3757\n"
     ]
    },
    {
     "name": "stderr",
     "output_type": "stream",
     "text": [
      "                                                                                    \r"
     ]
    },
    {
     "name": "stdout",
     "output_type": "stream",
     "text": [
      "Epoch 018 | NT-Xent Loss: 3.3615\n"
     ]
    },
    {
     "name": "stderr",
     "output_type": "stream",
     "text": [
      "                                                                                    \r"
     ]
    },
    {
     "name": "stdout",
     "output_type": "stream",
     "text": [
      "Epoch 019 | NT-Xent Loss: 3.3491\n"
     ]
    },
    {
     "name": "stderr",
     "output_type": "stream",
     "text": [
      "                                                                                    \r"
     ]
    },
    {
     "name": "stdout",
     "output_type": "stream",
     "text": [
      "Epoch 020 | NT-Xent Loss: 3.3426\n"
     ]
    },
    {
     "name": "stderr",
     "output_type": "stream",
     "text": [
      "                                                                                    \r"
     ]
    },
    {
     "name": "stdout",
     "output_type": "stream",
     "text": [
      "Epoch 021 | NT-Xent Loss: 3.3344\n"
     ]
    },
    {
     "name": "stderr",
     "output_type": "stream",
     "text": [
      "                                                                                    \r"
     ]
    },
    {
     "name": "stdout",
     "output_type": "stream",
     "text": [
      "Epoch 022 | NT-Xent Loss: 3.3243\n"
     ]
    },
    {
     "name": "stderr",
     "output_type": "stream",
     "text": [
      "                                                                                    \r"
     ]
    },
    {
     "name": "stdout",
     "output_type": "stream",
     "text": [
      "Epoch 023 | NT-Xent Loss: 3.3226\n"
     ]
    },
    {
     "name": "stderr",
     "output_type": "stream",
     "text": [
      "                                                                                    \r"
     ]
    },
    {
     "name": "stdout",
     "output_type": "stream",
     "text": [
      "Epoch 024 | NT-Xent Loss: 3.3183\n"
     ]
    },
    {
     "name": "stderr",
     "output_type": "stream",
     "text": [
      "                                                                                    \r"
     ]
    },
    {
     "name": "stdout",
     "output_type": "stream",
     "text": [
      "Epoch 025 | NT-Xent Loss: 3.3145\n"
     ]
    },
    {
     "name": "stderr",
     "output_type": "stream",
     "text": [
      "                                                                                    \r"
     ]
    },
    {
     "name": "stdout",
     "output_type": "stream",
     "text": [
      "Epoch 026 | NT-Xent Loss: 3.3045\n"
     ]
    },
    {
     "name": "stderr",
     "output_type": "stream",
     "text": [
      "                                                                                    \r"
     ]
    },
    {
     "name": "stdout",
     "output_type": "stream",
     "text": [
      "Epoch 027 | NT-Xent Loss: 3.3013\n"
     ]
    },
    {
     "name": "stderr",
     "output_type": "stream",
     "text": [
      "                                                                                    \r"
     ]
    },
    {
     "name": "stdout",
     "output_type": "stream",
     "text": [
      "Epoch 028 | NT-Xent Loss: 3.3009\n"
     ]
    },
    {
     "name": "stderr",
     "output_type": "stream",
     "text": [
      "                                                                                    \r"
     ]
    },
    {
     "name": "stdout",
     "output_type": "stream",
     "text": [
      "Epoch 029 | NT-Xent Loss: 3.2905\n"
     ]
    },
    {
     "name": "stderr",
     "output_type": "stream",
     "text": [
      "                                                                                    \r"
     ]
    },
    {
     "name": "stdout",
     "output_type": "stream",
     "text": [
      "Epoch 030 | NT-Xent Loss: 3.2889\n"
     ]
    },
    {
     "name": "stderr",
     "output_type": "stream",
     "text": [
      "                                                                                    \r"
     ]
    },
    {
     "name": "stdout",
     "output_type": "stream",
     "text": [
      "Epoch 031 | NT-Xent Loss: 3.2887\n"
     ]
    },
    {
     "name": "stderr",
     "output_type": "stream",
     "text": [
      "                                                                                    \r"
     ]
    },
    {
     "name": "stdout",
     "output_type": "stream",
     "text": [
      "Epoch 032 | NT-Xent Loss: 3.2827\n"
     ]
    },
    {
     "name": "stderr",
     "output_type": "stream",
     "text": [
      "                                                                                    \r"
     ]
    },
    {
     "name": "stdout",
     "output_type": "stream",
     "text": [
      "Epoch 033 | NT-Xent Loss: 3.2781\n"
     ]
    },
    {
     "name": "stderr",
     "output_type": "stream",
     "text": [
      "                                                                                    \r"
     ]
    },
    {
     "name": "stdout",
     "output_type": "stream",
     "text": [
      "Epoch 034 | NT-Xent Loss: 3.2777\n"
     ]
    },
    {
     "name": "stderr",
     "output_type": "stream",
     "text": [
      "                                                                                    \r"
     ]
    },
    {
     "name": "stdout",
     "output_type": "stream",
     "text": [
      "Epoch 035 | NT-Xent Loss: 3.2786\n"
     ]
    },
    {
     "name": "stderr",
     "output_type": "stream",
     "text": [
      "                                                                                    \r"
     ]
    },
    {
     "name": "stdout",
     "output_type": "stream",
     "text": [
      "Epoch 036 | NT-Xent Loss: 3.2718\n"
     ]
    },
    {
     "name": "stderr",
     "output_type": "stream",
     "text": [
      "                                                                                    \r"
     ]
    },
    {
     "name": "stdout",
     "output_type": "stream",
     "text": [
      "Epoch 037 | NT-Xent Loss: 3.2707\n"
     ]
    },
    {
     "name": "stderr",
     "output_type": "stream",
     "text": [
      "                                                                                    \r"
     ]
    },
    {
     "name": "stdout",
     "output_type": "stream",
     "text": [
      "Epoch 038 | NT-Xent Loss: 3.2658\n"
     ]
    },
    {
     "name": "stderr",
     "output_type": "stream",
     "text": [
      "                                                                                    \r"
     ]
    },
    {
     "name": "stdout",
     "output_type": "stream",
     "text": [
      "Epoch 039 | NT-Xent Loss: 3.2636\n"
     ]
    },
    {
     "name": "stderr",
     "output_type": "stream",
     "text": [
      "                                                                                    \r"
     ]
    },
    {
     "name": "stdout",
     "output_type": "stream",
     "text": [
      "Epoch 040 | NT-Xent Loss: 3.2612\n"
     ]
    },
    {
     "name": "stderr",
     "output_type": "stream",
     "text": [
      "                                                                                    \r"
     ]
    },
    {
     "name": "stdout",
     "output_type": "stream",
     "text": [
      "Epoch 041 | NT-Xent Loss: 3.2557\n"
     ]
    },
    {
     "name": "stderr",
     "output_type": "stream",
     "text": [
      "                                                                                    \r"
     ]
    },
    {
     "name": "stdout",
     "output_type": "stream",
     "text": [
      "Epoch 042 | NT-Xent Loss: 3.2581\n"
     ]
    },
    {
     "name": "stderr",
     "output_type": "stream",
     "text": [
      "                                                                                    \r"
     ]
    },
    {
     "name": "stdout",
     "output_type": "stream",
     "text": [
      "Epoch 043 | NT-Xent Loss: 3.2490\n"
     ]
    },
    {
     "name": "stderr",
     "output_type": "stream",
     "text": [
      "                                                                                    \r"
     ]
    },
    {
     "name": "stdout",
     "output_type": "stream",
     "text": [
      "Epoch 044 | NT-Xent Loss: 3.2413\n"
     ]
    },
    {
     "name": "stderr",
     "output_type": "stream",
     "text": [
      "                                                                                    \r"
     ]
    },
    {
     "name": "stdout",
     "output_type": "stream",
     "text": [
      "Epoch 045 | NT-Xent Loss: 3.2471\n"
     ]
    },
    {
     "name": "stderr",
     "output_type": "stream",
     "text": [
      "                                                                                    \r"
     ]
    },
    {
     "name": "stdout",
     "output_type": "stream",
     "text": [
      "Epoch 046 | NT-Xent Loss: 3.2478\n"
     ]
    },
    {
     "name": "stderr",
     "output_type": "stream",
     "text": [
      "                                                                                    \r"
     ]
    },
    {
     "name": "stdout",
     "output_type": "stream",
     "text": [
      "Epoch 047 | NT-Xent Loss: 3.2376\n"
     ]
    },
    {
     "name": "stderr",
     "output_type": "stream",
     "text": [
      "                                                                                    \r"
     ]
    },
    {
     "name": "stdout",
     "output_type": "stream",
     "text": [
      "Epoch 048 | NT-Xent Loss: 3.2337\n"
     ]
    },
    {
     "name": "stderr",
     "output_type": "stream",
     "text": [
      "                                                                                    \r"
     ]
    },
    {
     "name": "stdout",
     "output_type": "stream",
     "text": [
      "Epoch 049 | NT-Xent Loss: 3.2355\n"
     ]
    },
    {
     "name": "stderr",
     "output_type": "stream",
     "text": [
      "                                                                                    \r"
     ]
    },
    {
     "name": "stdout",
     "output_type": "stream",
     "text": [
      "Epoch 050 | NT-Xent Loss: 3.2277\n"
     ]
    },
    {
     "name": "stderr",
     "output_type": "stream",
     "text": [
      "                                                                                    \r"
     ]
    },
    {
     "name": "stdout",
     "output_type": "stream",
     "text": [
      "Epoch 051 | NT-Xent Loss: 3.2286\n"
     ]
    },
    {
     "name": "stderr",
     "output_type": "stream",
     "text": [
      "                                                                                    \r"
     ]
    },
    {
     "name": "stdout",
     "output_type": "stream",
     "text": [
      "Epoch 052 | NT-Xent Loss: 3.2262\n"
     ]
    },
    {
     "name": "stderr",
     "output_type": "stream",
     "text": [
      "                                                                                    \r"
     ]
    },
    {
     "name": "stdout",
     "output_type": "stream",
     "text": [
      "Epoch 053 | NT-Xent Loss: 3.2204\n"
     ]
    },
    {
     "name": "stderr",
     "output_type": "stream",
     "text": [
      "                                                                                    \r"
     ]
    },
    {
     "name": "stdout",
     "output_type": "stream",
     "text": [
      "Epoch 054 | NT-Xent Loss: 3.2194\n"
     ]
    },
    {
     "name": "stderr",
     "output_type": "stream",
     "text": [
      "                                                                                    \r"
     ]
    },
    {
     "name": "stdout",
     "output_type": "stream",
     "text": [
      "Epoch 055 | NT-Xent Loss: 3.2136\n"
     ]
    },
    {
     "name": "stderr",
     "output_type": "stream",
     "text": [
      "                                                                                    \r"
     ]
    },
    {
     "name": "stdout",
     "output_type": "stream",
     "text": [
      "Epoch 056 | NT-Xent Loss: 3.2126\n"
     ]
    },
    {
     "name": "stderr",
     "output_type": "stream",
     "text": [
      "                                                                                    \r"
     ]
    },
    {
     "name": "stdout",
     "output_type": "stream",
     "text": [
      "Epoch 057 | NT-Xent Loss: 3.2089\n"
     ]
    },
    {
     "name": "stderr",
     "output_type": "stream",
     "text": [
      "                                                                                    \r"
     ]
    },
    {
     "name": "stdout",
     "output_type": "stream",
     "text": [
      "Epoch 058 | NT-Xent Loss: 3.2106\n"
     ]
    },
    {
     "name": "stderr",
     "output_type": "stream",
     "text": [
      "                                                                                    \r"
     ]
    },
    {
     "name": "stdout",
     "output_type": "stream",
     "text": [
      "Epoch 059 | NT-Xent Loss: 3.2076\n"
     ]
    },
    {
     "name": "stderr",
     "output_type": "stream",
     "text": [
      "                                                                                    \r"
     ]
    },
    {
     "name": "stdout",
     "output_type": "stream",
     "text": [
      "Epoch 060 | NT-Xent Loss: 3.1995\n"
     ]
    },
    {
     "name": "stderr",
     "output_type": "stream",
     "text": [
      "                                                                                    \r"
     ]
    },
    {
     "name": "stdout",
     "output_type": "stream",
     "text": [
      "Epoch 061 | NT-Xent Loss: 3.2015\n"
     ]
    },
    {
     "name": "stderr",
     "output_type": "stream",
     "text": [
      "                                                                                    \r"
     ]
    },
    {
     "name": "stdout",
     "output_type": "stream",
     "text": [
      "Epoch 062 | NT-Xent Loss: 3.2062\n"
     ]
    },
    {
     "name": "stderr",
     "output_type": "stream",
     "text": [
      "                                                                                    \r"
     ]
    },
    {
     "name": "stdout",
     "output_type": "stream",
     "text": [
      "Epoch 063 | NT-Xent Loss: 3.1985\n"
     ]
    },
    {
     "name": "stderr",
     "output_type": "stream",
     "text": [
      "                                                                                    \r"
     ]
    },
    {
     "name": "stdout",
     "output_type": "stream",
     "text": [
      "Epoch 064 | NT-Xent Loss: 3.1990\n"
     ]
    },
    {
     "name": "stderr",
     "output_type": "stream",
     "text": [
      "                                                                                    \r"
     ]
    },
    {
     "name": "stdout",
     "output_type": "stream",
     "text": [
      "Epoch 065 | NT-Xent Loss: 3.1959\n"
     ]
    },
    {
     "name": "stderr",
     "output_type": "stream",
     "text": [
      "                                                                                    \r"
     ]
    },
    {
     "name": "stdout",
     "output_type": "stream",
     "text": [
      "Epoch 066 | NT-Xent Loss: 3.1926\n"
     ]
    },
    {
     "name": "stderr",
     "output_type": "stream",
     "text": [
      "                                                                                    \r"
     ]
    },
    {
     "name": "stdout",
     "output_type": "stream",
     "text": [
      "Epoch 067 | NT-Xent Loss: 3.1904\n"
     ]
    },
    {
     "name": "stderr",
     "output_type": "stream",
     "text": [
      "                                                                                    \r"
     ]
    },
    {
     "name": "stdout",
     "output_type": "stream",
     "text": [
      "Epoch 068 | NT-Xent Loss: 3.1894\n"
     ]
    },
    {
     "name": "stderr",
     "output_type": "stream",
     "text": [
      "                                                                                    \r"
     ]
    },
    {
     "name": "stdout",
     "output_type": "stream",
     "text": [
      "Epoch 069 | NT-Xent Loss: 3.1890\n"
     ]
    },
    {
     "name": "stderr",
     "output_type": "stream",
     "text": [
      "                                                                                    \r"
     ]
    },
    {
     "name": "stdout",
     "output_type": "stream",
     "text": [
      "Epoch 070 | NT-Xent Loss: 3.1863\n"
     ]
    },
    {
     "name": "stderr",
     "output_type": "stream",
     "text": [
      "                                                                                    \r"
     ]
    },
    {
     "name": "stdout",
     "output_type": "stream",
     "text": [
      "Epoch 071 | NT-Xent Loss: 3.1833\n"
     ]
    },
    {
     "name": "stderr",
     "output_type": "stream",
     "text": [
      "                                                                                    \r"
     ]
    },
    {
     "name": "stdout",
     "output_type": "stream",
     "text": [
      "Epoch 072 | NT-Xent Loss: 3.1839\n"
     ]
    },
    {
     "name": "stderr",
     "output_type": "stream",
     "text": [
      "                                                                                    \r"
     ]
    },
    {
     "name": "stdout",
     "output_type": "stream",
     "text": [
      "Epoch 073 | NT-Xent Loss: 3.1796\n"
     ]
    },
    {
     "name": "stderr",
     "output_type": "stream",
     "text": [
      "                                                                                    \r"
     ]
    },
    {
     "name": "stdout",
     "output_type": "stream",
     "text": [
      "Epoch 074 | NT-Xent Loss: 3.1813\n"
     ]
    },
    {
     "name": "stderr",
     "output_type": "stream",
     "text": [
      "                                                                                    \r"
     ]
    },
    {
     "name": "stdout",
     "output_type": "stream",
     "text": [
      "Epoch 075 | NT-Xent Loss: 3.1789\n"
     ]
    },
    {
     "name": "stderr",
     "output_type": "stream",
     "text": [
      "                                                                                    \r"
     ]
    },
    {
     "name": "stdout",
     "output_type": "stream",
     "text": [
      "Epoch 076 | NT-Xent Loss: 3.1789\n"
     ]
    },
    {
     "name": "stderr",
     "output_type": "stream",
     "text": [
      "                                                                                    \r"
     ]
    },
    {
     "name": "stdout",
     "output_type": "stream",
     "text": [
      "Epoch 077 | NT-Xent Loss: 3.1784\n"
     ]
    },
    {
     "name": "stderr",
     "output_type": "stream",
     "text": [
      "                                                                                    \r"
     ]
    },
    {
     "name": "stdout",
     "output_type": "stream",
     "text": [
      "Epoch 078 | NT-Xent Loss: 3.1727\n"
     ]
    },
    {
     "name": "stderr",
     "output_type": "stream",
     "text": [
      "                                                                                    \r"
     ]
    },
    {
     "name": "stdout",
     "output_type": "stream",
     "text": [
      "Epoch 079 | NT-Xent Loss: 3.1736\n"
     ]
    },
    {
     "name": "stderr",
     "output_type": "stream",
     "text": [
      "                                                                                    \r"
     ]
    },
    {
     "name": "stdout",
     "output_type": "stream",
     "text": [
      "Epoch 080 | NT-Xent Loss: 3.1773\n"
     ]
    },
    {
     "name": "stderr",
     "output_type": "stream",
     "text": [
      "                                                                                    \r"
     ]
    },
    {
     "name": "stdout",
     "output_type": "stream",
     "text": [
      "Epoch 081 | NT-Xent Loss: 3.1689\n"
     ]
    },
    {
     "name": "stderr",
     "output_type": "stream",
     "text": [
      "                                                                                    \r"
     ]
    },
    {
     "name": "stdout",
     "output_type": "stream",
     "text": [
      "Epoch 082 | NT-Xent Loss: 3.1685\n"
     ]
    },
    {
     "name": "stderr",
     "output_type": "stream",
     "text": [
      "                                                                                    \r"
     ]
    },
    {
     "name": "stdout",
     "output_type": "stream",
     "text": [
      "Epoch 083 | NT-Xent Loss: 3.1708\n"
     ]
    },
    {
     "name": "stderr",
     "output_type": "stream",
     "text": [
      "                                                                                    \r"
     ]
    },
    {
     "name": "stdout",
     "output_type": "stream",
     "text": [
      "Epoch 084 | NT-Xent Loss: 3.1691\n"
     ]
    },
    {
     "name": "stderr",
     "output_type": "stream",
     "text": [
      "                                                                                    \r"
     ]
    },
    {
     "name": "stdout",
     "output_type": "stream",
     "text": [
      "Epoch 085 | NT-Xent Loss: 3.1658\n"
     ]
    },
    {
     "name": "stderr",
     "output_type": "stream",
     "text": [
      "                                                                                    \r"
     ]
    },
    {
     "name": "stdout",
     "output_type": "stream",
     "text": [
      "Epoch 086 | NT-Xent Loss: 3.1636\n"
     ]
    },
    {
     "name": "stderr",
     "output_type": "stream",
     "text": [
      "                                                                                    \r"
     ]
    },
    {
     "name": "stdout",
     "output_type": "stream",
     "text": [
      "Epoch 087 | NT-Xent Loss: 3.1669\n"
     ]
    },
    {
     "name": "stderr",
     "output_type": "stream",
     "text": [
      "                                                                                    \r"
     ]
    },
    {
     "name": "stdout",
     "output_type": "stream",
     "text": [
      "Epoch 088 | NT-Xent Loss: 3.1627\n"
     ]
    },
    {
     "name": "stderr",
     "output_type": "stream",
     "text": [
      "                                                                                    \r"
     ]
    },
    {
     "name": "stdout",
     "output_type": "stream",
     "text": [
      "Epoch 089 | NT-Xent Loss: 3.1605\n"
     ]
    },
    {
     "name": "stderr",
     "output_type": "stream",
     "text": [
      "                                                                                    \r"
     ]
    },
    {
     "name": "stdout",
     "output_type": "stream",
     "text": [
      "Epoch 090 | NT-Xent Loss: 3.1599\n"
     ]
    },
    {
     "name": "stderr",
     "output_type": "stream",
     "text": [
      "                                                                                    \r"
     ]
    },
    {
     "name": "stdout",
     "output_type": "stream",
     "text": [
      "Epoch 091 | NT-Xent Loss: 3.1586\n"
     ]
    },
    {
     "name": "stderr",
     "output_type": "stream",
     "text": [
      "                                                                                    \r"
     ]
    },
    {
     "name": "stdout",
     "output_type": "stream",
     "text": [
      "Epoch 092 | NT-Xent Loss: 3.1604\n"
     ]
    },
    {
     "name": "stderr",
     "output_type": "stream",
     "text": [
      "                                                                                    \r"
     ]
    },
    {
     "name": "stdout",
     "output_type": "stream",
     "text": [
      "Epoch 093 | NT-Xent Loss: 3.1609\n"
     ]
    },
    {
     "name": "stderr",
     "output_type": "stream",
     "text": [
      "                                                                                    \r"
     ]
    },
    {
     "name": "stdout",
     "output_type": "stream",
     "text": [
      "Epoch 094 | NT-Xent Loss: 3.1540\n"
     ]
    },
    {
     "name": "stderr",
     "output_type": "stream",
     "text": [
      "                                                                                    \r"
     ]
    },
    {
     "name": "stdout",
     "output_type": "stream",
     "text": [
      "Epoch 095 | NT-Xent Loss: 3.1534\n"
     ]
    },
    {
     "name": "stderr",
     "output_type": "stream",
     "text": [
      "                                                                                    \r"
     ]
    },
    {
     "name": "stdout",
     "output_type": "stream",
     "text": [
      "Epoch 096 | NT-Xent Loss: 3.1564\n"
     ]
    },
    {
     "name": "stderr",
     "output_type": "stream",
     "text": [
      "                                                                                    \r"
     ]
    },
    {
     "name": "stdout",
     "output_type": "stream",
     "text": [
      "Epoch 097 | NT-Xent Loss: 3.1483\n"
     ]
    },
    {
     "name": "stderr",
     "output_type": "stream",
     "text": [
      "                                                                                    \r"
     ]
    },
    {
     "name": "stdout",
     "output_type": "stream",
     "text": [
      "Epoch 098 | NT-Xent Loss: 3.1486\n"
     ]
    },
    {
     "name": "stderr",
     "output_type": "stream",
     "text": [
      "                                                                                    \r"
     ]
    },
    {
     "name": "stdout",
     "output_type": "stream",
     "text": [
      "Epoch 099 | NT-Xent Loss: 3.1498\n"
     ]
    },
    {
     "name": "stderr",
     "output_type": "stream",
     "text": [
      "                                                                                     \r"
     ]
    },
    {
     "name": "stdout",
     "output_type": "stream",
     "text": [
      "Epoch 100 | NT-Xent Loss: 3.1505\n",
      "\n",
      "Saved best encoder to: best_simclr_encoder.pth\n",
      "\n",
      "# **Visualization — Pretext Loss**\n"
     ]
    },
    {
     "data": {
      "image/png": "[encoded data removed]",
      "text/plain": [
       "<Figure size 600x400 with 1 Axes>"
      ]
     },
     "metadata": {},
     "output_type": "display_data"
    },
    {
     "name": "stdout",
     "output_type": "stream",
     "text": [
      "\n",
      "# **Linear Evaluation**\n",
      "\n",
      "# **Training (Linear Classifier)**\n"
     ]
    },
    {
     "name": "stderr",
     "output_type": "stream",
     "text": [
      "                                                                                 \r"
     ]
    },
    {
     "name": "stdout",
     "output_type": "stream",
     "text": [
      "Epoch 01 | train_loss=1.9831 | val_loss=1.7351 | val_acc=43.74%\n"
     ]
    },
    {
     "name": "stderr",
     "output_type": "stream",
     "text": [
      "                                                                                 \r"
     ]
    },
    {
     "name": "stdout",
     "output_type": "stream",
     "text": [
      "Epoch 02 | train_loss=1.5943 | val_loss=1.5432 | val_acc=50.18%\n"
     ]
    },
    {
     "name": "stderr",
     "output_type": "stream",
     "text": [
      "                                                                                 \r"
     ]
    },
    {
     "name": "stdout",
     "output_type": "stream",
     "text": [
      "Epoch 03 | train_loss=1.4446 | val_loss=1.4285 | val_acc=53.05%\n"
     ]
    },
    {
     "name": "stderr",
     "output_type": "stream",
     "text": [
      "                                                                                 \r"
     ]
    },
    {
     "name": "stdout",
     "output_type": "stream",
     "text": [
      "Epoch 04 | train_loss=1.3621 | val_loss=1.3837 | val_acc=56.45%\n"
     ]
    },
    {
     "name": "stderr",
     "output_type": "stream",
     "text": [
      "                                                                                 \r"
     ]
    },
    {
     "name": "stdout",
     "output_type": "stream",
     "text": [
      "Epoch 05 | train_loss=1.2848 | val_loss=1.2764 | val_acc=58.32%\n"
     ]
    },
    {
     "name": "stderr",
     "output_type": "stream",
     "text": [
      "                                                                                 \r"
     ]
    },
    {
     "name": "stdout",
     "output_type": "stream",
     "text": [
      "Epoch 06 | train_loss=1.2236 | val_loss=1.3021 | val_acc=57.26%\n"
     ]
    },
    {
     "name": "stderr",
     "output_type": "stream",
     "text": [
      "                                                                                 \r"
     ]
    },
    {
     "name": "stdout",
     "output_type": "stream",
     "text": [
      "Epoch 07 | train_loss=1.1796 | val_loss=1.1868 | val_acc=61.68%\n"
     ]
    },
    {
     "name": "stderr",
     "output_type": "stream",
     "text": [
      "                                                                                 \r"
     ]
    },
    {
     "name": "stdout",
     "output_type": "stream",
     "text": [
      "Epoch 08 | train_loss=1.1312 | val_loss=1.2035 | val_acc=60.92%\n"
     ]
    },
    {
     "name": "stderr",
     "output_type": "stream",
     "text": [
      "                                                                                 \r"
     ]
    },
    {
     "name": "stdout",
     "output_type": "stream",
     "text": [
      "Epoch 09 | train_loss=1.1058 | val_loss=1.1865 | val_acc=59.79%\n"
     ]
    },
    {
     "name": "stderr",
     "output_type": "stream",
     "text": [
      "                                                                                  \r"
     ]
    },
    {
     "name": "stdout",
     "output_type": "stream",
     "text": [
      "Epoch 10 | train_loss=1.0781 | val_loss=1.1848 | val_acc=60.71%\n",
      "\n",
      "# **Visualization — Downstream Curves**\n"
     ]
    },
    {
     "data": {
      "image/png": "[encoded data removed]",
      "text/plain": [
       "<Figure size 600x400 with 1 Axes>"
      ]
     },
     "metadata": {},
     "output_type": "display_data"
    },
    {
     "data": {
      "image/png": "[encoded data removed]",
      "text/plain": [
       "<Figure size 600x400 with 1 Axes>"
      ]
     },
     "metadata": {},
     "output_type": "display_data"
    },
    {
     "name": "stdout",
     "output_type": "stream",
     "text": [
      "\n",
      "# **Final Evaluation (Report & Confusion Matrix)**\n",
      "\n",
      "📊 SimCLR Evaluation (Linear Probe):\n",
      "              precision    recall  f1-score   support\n",
      "\n",
      "           0     0.5210    0.6200    0.5662       100\n",
      "           1     0.7467    0.5833    0.6550        96\n",
      "           2     0.9340    0.9083    0.9209       109\n",
      "           3     0.4219    0.5625    0.4821        96\n",
      "           4     0.6900    0.8118    0.7459        85\n",
      "           5     0.6396    0.6698    0.6544       106\n",
      "           6     0.6812    0.3983    0.5027       118\n",
      "           7     0.9014    0.6957    0.7853        92\n",
      "           8     0.7368    0.7000    0.7179        80\n",
      "           9     0.6579    0.7576    0.7042        99\n",
      "          10     0.4381    0.4842    0.4600        95\n",
      "          11     0.7951    0.8818    0.8362       110\n",
      "          12     0.8000    0.1455    0.2462       110\n",
      "          13     0.3889    0.7500    0.5122        84\n",
      "          14     0.6111    0.8021    0.6937        96\n",
      "          15     0.6000    0.8491    0.7031       106\n",
      "          16     0.5663    0.4896    0.5251        96\n",
      "          17     0.7093    0.6489    0.6778        94\n",
      "          18     0.7447    0.3571    0.4828        98\n",
      "          19     0.9286    0.4815    0.6341       108\n",
      "          20     0.5846    0.8352    0.6878        91\n",
      "          21     0.5806    0.5625    0.5714        96\n",
      "          22     0.7155    0.8218    0.7650       101\n",
      "          23     0.5321    0.6905    0.6010        84\n",
      "          24     0.5510    0.7297    0.6279       111\n",
      "          25     0.4824    0.4227    0.4505        97\n",
      "          26     0.7778    0.1228    0.2121       114\n",
      "          27     0.5139    0.3592    0.4229       103\n",
      "          28     0.7129    0.6545    0.6825       110\n",
      "          29     0.8617    0.7941    0.8265       102\n",
      "          30     1.0000    1.0000    1.0000       104\n",
      "          31     0.4545    0.1376    0.2113       109\n",
      "          32     0.4846    0.5625    0.5207       112\n",
      "          33     0.4722    0.3617    0.4096        94\n",
      "          34     0.5137    0.8785    0.6483       107\n",
      "          35     0.2556    0.6939    0.3736        98\n",
      "          36     0.6111    0.2391    0.3438        92\n",
      "          37     0.8588    0.7526    0.8022        97\n",
      "\n",
      "    accuracy                         0.6071      3800\n",
      "   macro avg     0.6441    0.6109    0.5964      3800\n",
      "weighted avg     0.6473    0.6071    0.5946      3800\n",
      "\n"
     ]
    },
    {
     "data": {
      "image/png": "[encoded data removed]",
      "text/plain": [
       "<Figure size 1200x1000 with 2 Axes>"
      ]
     },
     "metadata": {},
     "output_type": "display_data"
    }
   ],
   "source": [
    "# === SIMCLR (Notebook-Style) — Rice Dataset (38 classes) ===\n",
    "# Matches the style/flow of the reference EuroSAT notebook: sections, curves, best checkpoint, eval report + CM.\n",
    "\n",
    "import os, random, numpy as np\n",
    "import torch, torch.nn as nn, torch.nn.functional as F\n",
    "from torchvision import transforms, datasets, models\n",
    "from torch.utils.data import DataLoader, Dataset, random_split\n",
    "from sklearn.metrics import classification_report, confusion_matrix\n",
    "import matplotlib.pyplot as plt, seaborn as sns\n",
    "from tqdm import tqdm\n",
    "\n",
    "# -----------------------------\n",
    "# 1) Set Up / Hyperparameters\n",
    "# -----------------------------\n",
    "print(\"# **Set Up**\")\n",
    "DATA_DIR   = '/kaggle/input/rice-data-cse475/Original/Original'  \n",
    "NUM_CLASSES = 38\n",
    "BATCH_SIZE = 64\n",
    "EPOCHS_PRETEXT = 100\n",
    "EPOCHS_LINEAR  = 10\n",
    "LR_PRETEXT = 1e-3\n",
    "LR_LINEAR  = 1e-3\n",
    "TEMPERATURE = 0.5\n",
    "SEED = 42\n",
    "\n",
    "torch.manual_seed(SEED); np.random.seed(SEED); random.seed(SEED)\n",
    "DEVICE = torch.device('cuda' if torch.cuda.is_available() else 'cpu')\n",
    "print(f\"Device: {DEVICE}\")\n",
    "\n",
    "# ----------------------------------------\n",
    "# 2) SimCLR Augmentations & Dataset Wrapper\n",
    "# ----------------------------------------\n",
    "print(\"\\n# **Data & Augmentations**\")\n",
    "simclr_tf = transforms.Compose([\n",
    "    transforms.RandomResizedCrop(224),\n",
    "    transforms.RandomHorizontalFlip(),\n",
    "    transforms.RandomApply([transforms.ColorJitter(0.4,0.4,0.4,0.1)], p=0.8),\n",
    "    transforms.RandomGrayscale(p=0.2),\n",
    "    transforms.ToTensor(),\n",
    "    transforms.Normalize([0.485,0.456,0.406],[0.229,0.224,0.225]),\n",
    "])\n",
    "\n",
    "class SimCLRDataset(Dataset):\n",
    "    \"\"\"Wrap an ImageFolder so each __getitem__ returns two augmented views of the SAME image.\"\"\"\n",
    "    def __init__(self, root, base_transform):\n",
    "        self.base = datasets.ImageFolder(root, transform=None)\n",
    "        self.loader = self.base.loader\n",
    "        self.samples = self.base.samples\n",
    "        self.tf = base_transform\n",
    "\n",
    "    def __len__(self):\n",
    "        return len(self.samples)\n",
    "\n",
    "    def __getitem__(self, idx):\n",
    "        path, _ = self.samples[idx]\n",
    "        img = self.loader(path)\n",
    "        x1 = self.tf(img)\n",
    "        x2 = self.tf(img)\n",
    "        return x1, x2\n",
    "\n",
    "train_dataset = SimCLRDataset(DATA_DIR, simclr_tf)\n",
    "train_loader  = DataLoader(train_dataset, batch_size=BATCH_SIZE, shuffle=True, num_workers=2, pin_memory=True)\n",
    "print(f\"SimCLR pretext samples: {len(train_dataset)} | BATCH_SIZE={BATCH_SIZE}\")\n",
    "\n",
    "# ------------------------------\n",
    "# 3) SimCLR Model (Encoder + MLP)\n",
    "# ------------------------------\n",
    "print(\"\\n# **Model (SimCLR)**\")\n",
    "class SimCLR(nn.Module):\n",
    "    def __init__(self, base='resnet50', proj_dim=128, hid_dim=512):\n",
    "        super().__init__()\n",
    "        if base == 'resnet50':\n",
    "            base_model = models.resnet50(pretrained=False)\n",
    "            feat_dim = base_model.fc.in_features\n",
    "            base_model.fc = nn.Identity()\n",
    "        else:\n",
    "            raise ValueError(\"Only resnet50 is supported in this template.\")\n",
    "        self.encoder = base_model\n",
    "        self.projector = nn.Sequential(\n",
    "            nn.Linear(feat_dim, hid_dim),\n",
    "            nn.ReLU(inplace=True),\n",
    "            nn.Linear(hid_dim, proj_dim)\n",
    "        )\n",
    "\n",
    "    def forward(self, x):\n",
    "        h = self.encoder(x)                      # [B, 2048]\n",
    "        z = self.projector(h)                    # [B, proj_dim]\n",
    "        z = F.normalize(z, dim=1)                # unit-norm for cosine sim\n",
    "        return h, z\n",
    "\n",
    "# --------------------------------------\n",
    "# 4) NT-Xent Loss (stable, self-mask)\n",
    "# --------------------------------------\n",
    "def nt_xent_loss(z1, z2, temperature=0.5):\n",
    "    \"\"\"\n",
    "    Proper NT-Xent:\n",
    "    - 2N embeddings (z1,z2)\n",
    "    - Cosine sim matrix\n",
    "    - Mask self-similarities\n",
    "    - Positive for i is its pair across views (i <-> i+N and vice versa)\n",
    "    \"\"\"\n",
    "    z = torch.cat([z1, z2], dim=0)                           # [2N, d]\n",
    "    sim = torch.matmul(z, z.T) / temperature                  # cosine sim since z is normalized\n",
    "    N = z1.size(0)\n",
    "    # mask out self-similarity\n",
    "    mask = torch.eye(2*N, device=z.device, dtype=torch.bool)\n",
    "    sim.masked_fill_(mask, -9e15)\n",
    "\n",
    "    # positives: indices (i, i+N) and (i+N, i)\n",
    "    targets = torch.cat([torch.arange(N, 2*N), torch.arange(0, N)]).to(z.device)\n",
    "    loss = F.cross_entropy(sim, targets)\n",
    "    return loss\n",
    "\n",
    "# -----------------------\n",
    "# 5) Train SimCLR (Pretext)\n",
    "# -----------------------\n",
    "print(\"\\n# **Training (Pretext)**\")\n",
    "model = SimCLR().to(DEVICE)\n",
    "optimizer = torch.optim.Adam(model.parameters(), lr=LR_PRETEXT)\n",
    "\n",
    "pretext_losses = []\n",
    "best_loss = float('inf')\n",
    "best_ckpt = \"best_simclr_encoder.pth\"\n",
    "\n",
    "for epoch in range(1, EPOCHS_PRETEXT+1):\n",
    "    model.train()\n",
    "    running = 0.0\n",
    "    pbar = tqdm(train_loader, desc=f\"Pretext Epoch {epoch}/{EPOCHS_PRETEXT}\", leave=False)\n",
    "    for x1, x2 in pbar:\n",
    "        x1, x2 = x1.to(DEVICE, non_blocking=True), x2.to(DEVICE, non_blocking=True)\n",
    "        _, z1 = model(x1)\n",
    "        _, z2 = model(x2)\n",
    "        loss = nt_xent_loss(z1, z2, temperature=TEMPERATURE)\n",
    "        optimizer.zero_grad()\n",
    "        loss.backward()\n",
    "        optimizer.step()\n",
    "        running += loss.item()\n",
    "        pbar.set_postfix(loss=f\"{loss.item():.4f}\")\n",
    "    epoch_loss = running / len(train_loader)\n",
    "    pretext_losses.append(epoch_loss)\n",
    "    print(f\"Epoch {epoch:03d} | NT-Xent Loss: {epoch_loss:.4f}\")\n",
    "\n",
    "    # Save best encoder (by lowest loss)\n",
    "    if epoch_loss < best_loss:\n",
    "        best_loss = epoch_loss\n",
    "        # Only save encoder weights for downstream use\n",
    "        torch.save(model.encoder.state_dict(), best_ckpt)\n",
    "\n",
    "print(f\"\\nSaved best encoder to: {best_ckpt}\")\n",
    "\n",
    "# --------------------------------\n",
    "# 6) Visualization — Pretext Curve\n",
    "# --------------------------------\n",
    "print(\"\\n# **Visualization — Pretext Loss**\")\n",
    "plt.figure(figsize=(6,4))\n",
    "plt.plot(range(1, len(pretext_losses)+1), pretext_losses, marker='o', label='Contrastive Loss')\n",
    "plt.title('SimCLR Contrastive Loss (NT-Xent)')\n",
    "plt.xlabel('Epoch'); plt.ylabel('Loss'); plt.grid(True); plt.legend()\n",
    "plt.tight_layout(); plt.show()\n",
    "\n",
    "# ----------------------------------------\n",
    "# 7) Linear Evaluation Setup (Frozen Enc.)\n",
    "# ----------------------------------------\n",
    "print(\"\\n# **Linear Evaluation**\")\n",
    "# Rebuild the same base encoder and load best weights\n",
    "base = models.resnet50(pretrained=False)\n",
    "feat_dim = base.fc.in_features\n",
    "base.fc = nn.Identity()\n",
    "base.load_state_dict(torch.load(best_ckpt, map_location=DEVICE))\n",
    "for p in base.parameters(): p.requires_grad = False\n",
    "encoder = base.to(DEVICE).eval()\n",
    "\n",
    "class LinearEval(nn.Module):\n",
    "    def __init__(self, in_dim, num_classes):\n",
    "        super().__init__()\n",
    "        self.fc = nn.Linear(in_dim, num_classes)\n",
    "    def forward(self, x):\n",
    "        return self.fc(x)\n",
    "\n",
    "classifier = LinearEval(feat_dim, NUM_CLASSES).to(DEVICE)\n",
    "\n",
    "eval_tf = transforms.Compose([\n",
    "    transforms.Resize(256),\n",
    "    transforms.CenterCrop(224),\n",
    "    transforms.ToTensor(),\n",
    "    transforms.Normalize([0.485,0.456,0.406],[0.229,0.224,0.225]),\n",
    "])\n",
    "\n",
    "full_dataset = datasets.ImageFolder(DATA_DIR, transform=eval_tf)\n",
    "train_size = int(0.8 * len(full_dataset))\n",
    "val_size   = len(full_dataset) - train_size\n",
    "train_set, val_set = random_split(full_dataset, [train_size, val_size], generator=torch.Generator().manual_seed(SEED))\n",
    "\n",
    "train_loader_eval = DataLoader(train_set, batch_size=64, shuffle=True,  num_workers=2, pin_memory=True)\n",
    "val_loader_eval   = DataLoader(val_set,   batch_size=64, shuffle=False, num_workers=2, pin_memory=True)\n",
    "\n",
    "# -------------------------------\n",
    "# 8) Train Linear Classifier Only\n",
    "# -------------------------------\n",
    "optimizer_lin = torch.optim.Adam(classifier.parameters(), lr=LR_LINEAR)\n",
    "criterion = nn.CrossEntropyLoss()\n",
    "\n",
    "downstream_losses, val_accuracies = [], []\n",
    "\n",
    "def extract_features(x_batch):\n",
    "    with torch.no_grad():\n",
    "        feats = encoder(x_batch)              # [B, 2048]\n",
    "    return feats\n",
    "\n",
    "def evaluate_val():\n",
    "    classifier.eval()\n",
    "    correct, total, running = 0, 0, 0.0\n",
    "    with torch.no_grad():\n",
    "        for x, y in val_loader_eval:\n",
    "            x, y = x.to(DEVICE), y.to(DEVICE)\n",
    "            feats = extract_features(x)\n",
    "            logits = classifier(feats)\n",
    "            loss = criterion(logits, y)\n",
    "            running += loss.item()\n",
    "            preds = logits.argmax(1)\n",
    "            correct += (preds == y).sum().item()\n",
    "            total += y.size(0)\n",
    "    avg_loss = running / max(1, len(val_loader_eval))\n",
    "    acc = 100.0 * correct / max(1, total)\n",
    "    return avg_loss, acc\n",
    "\n",
    "print(\"\\n# **Training (Linear Classifier)**\")\n",
    "for epoch in range(1, EPOCHS_LINEAR+1):\n",
    "    classifier.train()\n",
    "    running = 0.0\n",
    "    pbar = tqdm(train_loader_eval, desc=f\"Linear Epoch {epoch}/{EPOCHS_LINEAR}\", leave=False)\n",
    "    for x, y in pbar:\n",
    "        x, y = x.to(DEVICE), y.to(DEVICE)\n",
    "        feats = extract_features(x)\n",
    "        logits = classifier(feats)\n",
    "        loss = criterion(logits, y)\n",
    "        optimizer_lin.zero_grad()\n",
    "        loss.backward()\n",
    "        optimizer_lin.step()\n",
    "        running += loss.item()\n",
    "        pbar.set_postfix(loss=f\"{loss.item():.4f}\")\n",
    "    avg_train_loss = running / len(train_loader_eval)\n",
    "\n",
    "    val_loss, val_acc = evaluate_val()\n",
    "    downstream_losses.append(avg_train_loss)\n",
    "    val_accuracies.append(val_acc)\n",
    "    print(f\"Epoch {epoch:02d} | train_loss={avg_train_loss:.4f} | val_loss={val_loss:.4f} | val_acc={val_acc:.2f}%\")\n",
    "\n",
    "# ----------------------------------------\n",
    "# 9) Visualization — Linear Eval Curves\n",
    "# ----------------------------------------\n",
    "print(\"\\n# **Visualization — Downstream Curves**\")\n",
    "plt.figure(figsize=(6,4))\n",
    "plt.plot(range(1, len(downstream_losses)+1), downstream_losses, marker='o', label='Classifier Train Loss')\n",
    "plt.title('Downstream Classifier Loss')\n",
    "plt.xlabel('Epoch'); plt.ylabel('Loss'); plt.grid(True); plt.legend()\n",
    "plt.tight_layout(); plt.show()\n",
    "\n",
    "plt.figure(figsize=(6,4))\n",
    "plt.plot(range(1, len(val_accuracies)+1), val_accuracies, marker='o', label='Validation Accuracy')\n",
    "plt.title('Downstream Validation Accuracy')\n",
    "plt.xlabel('Epoch'); plt.ylabel('Accuracy (%)'); plt.grid(True); plt.legend()\n",
    "plt.tight_layout(); plt.show()\n",
    "\n",
    "# -----------------------------\n",
    "# 10) Final Evaluation & Report\n",
    "# -----------------------------\n",
    "print(\"\\n# **Final Evaluation (Report & Confusion Matrix)**\")\n",
    "classifier.eval()\n",
    "y_true, y_pred = [], []\n",
    "\n",
    "with torch.no_grad():\n",
    "    for x, y in val_loader_eval:\n",
    "        x = x.to(DEVICE)\n",
    "        feats = extract_features(x)\n",
    "        logits = classifier(feats)\n",
    "        preds = logits.argmax(1).cpu().numpy()\n",
    "        y_pred.extend(preds)\n",
    "        y_true.extend(y.numpy())\n",
    "\n",
    "print(\"\\n📊 SimCLR Evaluation (Linear Probe):\")\n",
    "print(classification_report(y_true, y_pred, digits=4, zero_division=0))\n",
    "\n",
    "cm = confusion_matrix(y_true, y_pred)\n",
    "plt.figure(figsize=(12, 10))\n",
    "sns.heatmap(cm, annot=False, fmt='d', cmap='Blues')\n",
    "plt.title(\"SimCLR Linear Probe — Confusion Matrix\")\n",
    "plt.xlabel(\"Predicted\"); plt.ylabel(\"True\")\n",
    "plt.tight_layout(); plt.show()\n"
   ]
  }
 ],
 "metadata": {
  "kaggle": {
   "accelerator": "none",
   "dataSources": [
    {
     "datasetId": 7781746,
     "sourceId": 12343816,
     "sourceType": "datasetVersion"
    }
   ],
   "dockerImageVersionId": 31089,
   "isGpuEnabled": false,
   "isInternetEnabled": true,
   "language": "python",
   "sourceType": "notebook"
  },
  "kernelspec": {
   "display_name": "Python 3",
   "language": "python",
   "name": "python3"
  },
  "language_info": {
   "codemirror_mode": {
    "name": "ipython",
    "version": 3
   },
   "file_extension": ".py",
   "mimetype": "text/x-python",
   "name": "python",
   "nbconvert_exporter": "python",
   "pygments_lexer": "ipython3",
   "version": "3.11.13"
  },
  "papermill": {
   "default_parameters": {},
   "duration": 20904.820882,
   "end_time": "2025-08-17T06:58:23.137378",
   "environment_variables": {},
   "exception": null,
   "input_path": "__notebook__.ipynb",
   "output_path": "__notebook__.ipynb",
   "parameters": {},
   "start_time": "2025-08-17T01:09:58.316496",
   "version": "2.6.0"
  }
 },
 "nbformat": 4,
 "nbformat_minor": 5
}
