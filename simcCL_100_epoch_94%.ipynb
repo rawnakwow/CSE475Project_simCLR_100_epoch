{
 "cells": [
  {
   "cell_type": "code",
   "execution_count": 2,
   "id": "28c3c0ae",
   "metadata": {
    "execution": {
     "iopub.execute_input": "2025-08-18T06:52:41.272685Z",
     "iopub.status.busy": "2025-08-18T06:52:41.271825Z",
     "iopub.status.idle": "2025-08-18T13:14:38.298281Z",
     "shell.execute_reply": "2025-08-18T13:14:38.297391Z"
    },
    "papermill": {
     "duration": 22917.15816,
     "end_time": "2025-08-18T13:14:38.299934",
     "exception": false,
     "start_time": "2025-08-18T06:52:41.141774",
     "status": "completed"
    },
    "tags": []
   },
   "outputs": [
    {
     "name": "stderr",
     "output_type": "stream",
     "text": [
      "Downloading: \"https://download.pytorch.org/models/resnet50-11ad3fa6.pth\" to /root/.cache/torch/hub/checkpoints/resnet50-11ad3fa6.pth\n",
      "100%|██████████| 97.8M/97.8M [00:00<00:00, 191MB/s]\n",
      "/tmp/ipykernel_19/3857703179.py:191: FutureWarning: `torch.cuda.amp.GradScaler(args...)` is deprecated. Please use `torch.amp.GradScaler('cuda', args...)` instead.\n",
      "  scaler = torch.cuda.amp.GradScaler(enabled=(DEVICE.type == 'cuda'))\n",
      "SimCLR Epoch 1/100:   0%|          | 0/237 [00:00<?, ?it/s]/tmp/ipykernel_19/3857703179.py:200: FutureWarning: `torch.cuda.amp.autocast(args...)` is deprecated. Please use `torch.amp.autocast('cuda', args...)` instead.\n",
      "  with torch.cuda.amp.autocast(enabled=(DEVICE.type == 'cuda')):\n",
      "SimCLR Epoch 1/100: 100%|██████████| 237/237 [03:26<00:00,  1.15it/s, loss=2.2660]\n"
     ]
    },
    {
     "name": "stdout",
     "output_type": "stream",
     "text": [
      "SimCLR Epoch 1: loss=2.2564\n"
     ]
    },
    {
     "name": "stderr",
     "output_type": "stream",
     "text": [
      "SimCLR Epoch 2/100: 100%|██████████| 237/237 [03:09<00:00,  1.25it/s, loss=1.7062]\n"
     ]
    },
    {
     "name": "stdout",
     "output_type": "stream",
     "text": [
      "SimCLR Epoch 2: loss=1.6990\n"
     ]
    },
    {
     "name": "stderr",
     "output_type": "stream",
     "text": [
      "SimCLR Epoch 3/100: 100%|██████████| 237/237 [03:08<00:00,  1.25it/s, loss=1.5698]\n"
     ]
    },
    {
     "name": "stdout",
     "output_type": "stream",
     "text": [
      "SimCLR Epoch 3: loss=1.5632\n"
     ]
    },
    {
     "name": "stderr",
     "output_type": "stream",
     "text": [
      "SimCLR Epoch 4/100: 100%|██████████| 237/237 [03:09<00:00,  1.25it/s, loss=1.4899]\n"
     ]
    },
    {
     "name": "stdout",
     "output_type": "stream",
     "text": [
      "SimCLR Epoch 4: loss=1.4837\n"
     ]
    },
    {
     "name": "stderr",
     "output_type": "stream",
     "text": [
      "SimCLR Epoch 5/100: 100%|██████████| 237/237 [03:12<00:00,  1.23it/s, loss=1.4528]\n"
     ]
    },
    {
     "name": "stdout",
     "output_type": "stream",
     "text": [
      "SimCLR Epoch 5: loss=1.4466\n"
     ]
    },
    {
     "name": "stderr",
     "output_type": "stream",
     "text": [
      "SimCLR Epoch 6/100: 100%|██████████| 237/237 [03:11<00:00,  1.24it/s, loss=1.4085]\n"
     ]
    },
    {
     "name": "stdout",
     "output_type": "stream",
     "text": [
      "SimCLR Epoch 6: loss=1.4026\n"
     ]
    },
    {
     "name": "stderr",
     "output_type": "stream",
     "text": [
      "SimCLR Epoch 7/100: 100%|██████████| 237/237 [03:13<00:00,  1.22it/s, loss=1.3856]\n"
     ]
    },
    {
     "name": "stdout",
     "output_type": "stream",
     "text": [
      "SimCLR Epoch 7: loss=1.3798\n"
     ]
    },
    {
     "name": "stderr",
     "output_type": "stream",
     "text": [
      "SimCLR Epoch 8/100: 100%|██████████| 237/237 [03:15<00:00,  1.21it/s, loss=1.3777]\n"
     ]
    },
    {
     "name": "stdout",
     "output_type": "stream",
     "text": [
      "SimCLR Epoch 8: loss=1.3719\n"
     ]
    },
    {
     "name": "stderr",
     "output_type": "stream",
     "text": [
      "SimCLR Epoch 9/100: 100%|██████████| 237/237 [03:14<00:00,  1.22it/s, loss=1.3447]\n"
     ]
    },
    {
     "name": "stdout",
     "output_type": "stream",
     "text": [
      "SimCLR Epoch 9: loss=1.3390\n"
     ]
    },
    {
     "name": "stderr",
     "output_type": "stream",
     "text": [
      "SimCLR Epoch 10/100: 100%|██████████| 237/237 [03:13<00:00,  1.22it/s, loss=1.3331]\n"
     ]
    },
    {
     "name": "stdout",
     "output_type": "stream",
     "text": [
      "SimCLR Epoch 10: loss=1.3275\n"
     ]
    },
    {
     "name": "stderr",
     "output_type": "stream",
     "text": [
      "SimCLR Epoch 11/100: 100%|██████████| 237/237 [03:13<00:00,  1.22it/s, loss=1.3106]\n"
     ]
    },
    {
     "name": "stdout",
     "output_type": "stream",
     "text": [
      "SimCLR Epoch 11: loss=1.3051\n"
     ]
    },
    {
     "name": "stderr",
     "output_type": "stream",
     "text": [
      "SimCLR Epoch 12/100: 100%|██████████| 237/237 [03:12<00:00,  1.23it/s, loss=1.3075]\n"
     ]
    },
    {
     "name": "stdout",
     "output_type": "stream",
     "text": [
      "SimCLR Epoch 12: loss=1.3020\n"
     ]
    },
    {
     "name": "stderr",
     "output_type": "stream",
     "text": [
      "SimCLR Epoch 13/100: 100%|██████████| 237/237 [03:15<00:00,  1.22it/s, loss=1.2905]\n"
     ]
    },
    {
     "name": "stdout",
     "output_type": "stream",
     "text": [
      "SimCLR Epoch 13: loss=1.2851\n"
     ]
    },
    {
     "name": "stderr",
     "output_type": "stream",
     "text": [
      "SimCLR Epoch 14/100: 100%|██████████| 237/237 [03:15<00:00,  1.21it/s, loss=1.2821]\n"
     ]
    },
    {
     "name": "stdout",
     "output_type": "stream",
     "text": [
      "SimCLR Epoch 14: loss=1.2766\n"
     ]
    },
    {
     "name": "stderr",
     "output_type": "stream",
     "text": [
      "SimCLR Epoch 15/100: 100%|██████████| 237/237 [03:15<00:00,  1.21it/s, loss=1.2665]\n"
     ]
    },
    {
     "name": "stdout",
     "output_type": "stream",
     "text": [
      "SimCLR Epoch 15: loss=1.2612\n"
     ]
    },
    {
     "name": "stderr",
     "output_type": "stream",
     "text": [
      "SimCLR Epoch 16/100: 100%|██████████| 237/237 [03:16<00:00,  1.21it/s, loss=1.2681]\n"
     ]
    },
    {
     "name": "stdout",
     "output_type": "stream",
     "text": [
      "SimCLR Epoch 16: loss=1.2627\n"
     ]
    },
    {
     "name": "stderr",
     "output_type": "stream",
     "text": [
      "SimCLR Epoch 17/100: 100%|██████████| 237/237 [03:21<00:00,  1.18it/s, loss=1.2506]\n"
     ]
    },
    {
     "name": "stdout",
     "output_type": "stream",
     "text": [
      "SimCLR Epoch 17: loss=1.2454\n"
     ]
    },
    {
     "name": "stderr",
     "output_type": "stream",
     "text": [
      "SimCLR Epoch 18/100: 100%|██████████| 237/237 [03:21<00:00,  1.17it/s, loss=1.2441]\n"
     ]
    },
    {
     "name": "stdout",
     "output_type": "stream",
     "text": [
      "SimCLR Epoch 18: loss=1.2389\n"
     ]
    },
    {
     "name": "stderr",
     "output_type": "stream",
     "text": [
      "SimCLR Epoch 19/100: 100%|██████████| 237/237 [03:14<00:00,  1.22it/s, loss=1.2227]\n"
     ]
    },
    {
     "name": "stdout",
     "output_type": "stream",
     "text": [
      "SimCLR Epoch 19: loss=1.2175\n"
     ]
    },
    {
     "name": "stderr",
     "output_type": "stream",
     "text": [
      "SimCLR Epoch 20/100: 100%|██████████| 237/237 [03:12<00:00,  1.23it/s, loss=1.2296]\n"
     ]
    },
    {
     "name": "stdout",
     "output_type": "stream",
     "text": [
      "SimCLR Epoch 20: loss=1.2244\n"
     ]
    },
    {
     "name": "stderr",
     "output_type": "stream",
     "text": [
      "SimCLR Epoch 21/100: 100%|██████████| 237/237 [03:14<00:00,  1.22it/s, loss=1.2149]\n"
     ]
    },
    {
     "name": "stdout",
     "output_type": "stream",
     "text": [
      "SimCLR Epoch 21: loss=1.2097\n"
     ]
    },
    {
     "name": "stderr",
     "output_type": "stream",
     "text": [
      "SimCLR Epoch 22/100: 100%|██████████| 237/237 [03:19<00:00,  1.19it/s, loss=1.2177]\n"
     ]
    },
    {
     "name": "stdout",
     "output_type": "stream",
     "text": [
      "SimCLR Epoch 22: loss=1.2125\n"
     ]
    },
    {
     "name": "stderr",
     "output_type": "stream",
     "text": [
      "SimCLR Epoch 23/100: 100%|██████████| 237/237 [03:14<00:00,  1.22it/s, loss=1.2104]\n"
     ]
    },
    {
     "name": "stdout",
     "output_type": "stream",
     "text": [
      "SimCLR Epoch 23: loss=1.2052\n"
     ]
    },
    {
     "name": "stderr",
     "output_type": "stream",
     "text": [
      "SimCLR Epoch 24/100: 100%|██████████| 237/237 [03:18<00:00,  1.19it/s, loss=1.1912]\n"
     ]
    },
    {
     "name": "stdout",
     "output_type": "stream",
     "text": [
      "SimCLR Epoch 24: loss=1.1862\n"
     ]
    },
    {
     "name": "stderr",
     "output_type": "stream",
     "text": [
      "SimCLR Epoch 25/100: 100%|██████████| 237/237 [03:15<00:00,  1.21it/s, loss=1.1989]\n"
     ]
    },
    {
     "name": "stdout",
     "output_type": "stream",
     "text": [
      "SimCLR Epoch 25: loss=1.1938\n"
     ]
    },
    {
     "name": "stderr",
     "output_type": "stream",
     "text": [
      "SimCLR Epoch 26/100: 100%|██████████| 237/237 [03:19<00:00,  1.19it/s, loss=1.1711]\n"
     ]
    },
    {
     "name": "stdout",
     "output_type": "stream",
     "text": [
      "SimCLR Epoch 26: loss=1.1661\n"
     ]
    },
    {
     "name": "stderr",
     "output_type": "stream",
     "text": [
      "SimCLR Epoch 27/100: 100%|██████████| 237/237 [03:17<00:00,  1.20it/s, loss=1.1769]\n"
     ]
    },
    {
     "name": "stdout",
     "output_type": "stream",
     "text": [
      "SimCLR Epoch 27: loss=1.1720\n"
     ]
    },
    {
     "name": "stderr",
     "output_type": "stream",
     "text": [
      "SimCLR Epoch 28/100: 100%|██████████| 237/237 [03:21<00:00,  1.18it/s, loss=1.1733]\n"
     ]
    },
    {
     "name": "stdout",
     "output_type": "stream",
     "text": [
      "SimCLR Epoch 28: loss=1.1683\n"
     ]
    },
    {
     "name": "stderr",
     "output_type": "stream",
     "text": [
      "SimCLR Epoch 29/100: 100%|██████████| 237/237 [03:17<00:00,  1.20it/s, loss=1.1683]\n"
     ]
    },
    {
     "name": "stdout",
     "output_type": "stream",
     "text": [
      "SimCLR Epoch 29: loss=1.1634\n"
     ]
    },
    {
     "name": "stderr",
     "output_type": "stream",
     "text": [
      "SimCLR Epoch 30/100: 100%|██████████| 237/237 [03:20<00:00,  1.18it/s, loss=1.1648]\n"
     ]
    },
    {
     "name": "stdout",
     "output_type": "stream",
     "text": [
      "SimCLR Epoch 30: loss=1.1599\n"
     ]
    },
    {
     "name": "stderr",
     "output_type": "stream",
     "text": [
      "SimCLR Epoch 31/100: 100%|██████████| 237/237 [03:19<00:00,  1.19it/s, loss=1.1656]\n"
     ]
    },
    {
     "name": "stdout",
     "output_type": "stream",
     "text": [
      "SimCLR Epoch 31: loss=1.1607\n"
     ]
    },
    {
     "name": "stderr",
     "output_type": "stream",
     "text": [
      "SimCLR Epoch 32/100: 100%|██████████| 237/237 [03:22<00:00,  1.17it/s, loss=1.1632]\n"
     ]
    },
    {
     "name": "stdout",
     "output_type": "stream",
     "text": [
      "SimCLR Epoch 32: loss=1.1583\n"
     ]
    },
    {
     "name": "stderr",
     "output_type": "stream",
     "text": [
      "SimCLR Epoch 33/100: 100%|██████████| 237/237 [03:14<00:00,  1.22it/s, loss=1.1470]\n"
     ]
    },
    {
     "name": "stdout",
     "output_type": "stream",
     "text": [
      "SimCLR Epoch 33: loss=1.1422\n"
     ]
    },
    {
     "name": "stderr",
     "output_type": "stream",
     "text": [
      "SimCLR Epoch 34/100: 100%|██████████| 237/237 [03:15<00:00,  1.21it/s, loss=1.1334]\n"
     ]
    },
    {
     "name": "stdout",
     "output_type": "stream",
     "text": [
      "SimCLR Epoch 34: loss=1.1286\n"
     ]
    },
    {
     "name": "stderr",
     "output_type": "stream",
     "text": [
      "SimCLR Epoch 35/100: 100%|██████████| 237/237 [03:16<00:00,  1.20it/s, loss=1.1276]\n"
     ]
    },
    {
     "name": "stdout",
     "output_type": "stream",
     "text": [
      "SimCLR Epoch 35: loss=1.1228\n"
     ]
    },
    {
     "name": "stderr",
     "output_type": "stream",
     "text": [
      "SimCLR Epoch 36/100: 100%|██████████| 237/237 [03:17<00:00,  1.20it/s, loss=1.1300]\n"
     ]
    },
    {
     "name": "stdout",
     "output_type": "stream",
     "text": [
      "SimCLR Epoch 36: loss=1.1252\n"
     ]
    },
    {
     "name": "stderr",
     "output_type": "stream",
     "text": [
      "SimCLR Epoch 37/100: 100%|██████████| 237/237 [03:19<00:00,  1.19it/s, loss=1.1330]\n"
     ]
    },
    {
     "name": "stdout",
     "output_type": "stream",
     "text": [
      "SimCLR Epoch 37: loss=1.1282\n"
     ]
    },
    {
     "name": "stderr",
     "output_type": "stream",
     "text": [
      "SimCLR Epoch 38/100: 100%|██████████| 237/237 [03:20<00:00,  1.18it/s, loss=1.1286]\n"
     ]
    },
    {
     "name": "stdout",
     "output_type": "stream",
     "text": [
      "SimCLR Epoch 38: loss=1.1239\n"
     ]
    },
    {
     "name": "stderr",
     "output_type": "stream",
     "text": [
      "SimCLR Epoch 39/100: 100%|██████████| 237/237 [03:22<00:00,  1.17it/s, loss=1.1100]\n"
     ]
    },
    {
     "name": "stdout",
     "output_type": "stream",
     "text": [
      "SimCLR Epoch 39: loss=1.1053\n"
     ]
    },
    {
     "name": "stderr",
     "output_type": "stream",
     "text": [
      "SimCLR Epoch 40/100: 100%|██████████| 237/237 [03:21<00:00,  1.18it/s, loss=1.1228]\n"
     ]
    },
    {
     "name": "stdout",
     "output_type": "stream",
     "text": [
      "SimCLR Epoch 40: loss=1.1181\n"
     ]
    },
    {
     "name": "stderr",
     "output_type": "stream",
     "text": [
      "SimCLR Epoch 41/100: 100%|██████████| 237/237 [03:23<00:00,  1.17it/s, loss=1.1029]\n"
     ]
    },
    {
     "name": "stdout",
     "output_type": "stream",
     "text": [
      "SimCLR Epoch 41: loss=1.0983\n"
     ]
    },
    {
     "name": "stderr",
     "output_type": "stream",
     "text": [
      "SimCLR Epoch 42/100: 100%|██████████| 237/237 [03:22<00:00,  1.17it/s, loss=1.1053]\n"
     ]
    },
    {
     "name": "stdout",
     "output_type": "stream",
     "text": [
      "SimCLR Epoch 42: loss=1.1007\n"
     ]
    },
    {
     "name": "stderr",
     "output_type": "stream",
     "text": [
      "SimCLR Epoch 43/100: 100%|██████████| 237/237 [03:20<00:00,  1.18it/s, loss=1.1061]\n"
     ]
    },
    {
     "name": "stdout",
     "output_type": "stream",
     "text": [
      "SimCLR Epoch 43: loss=1.1015\n"
     ]
    },
    {
     "name": "stderr",
     "output_type": "stream",
     "text": [
      "SimCLR Epoch 44/100: 100%|██████████| 237/237 [03:20<00:00,  1.18it/s, loss=1.0982]\n"
     ]
    },
    {
     "name": "stdout",
     "output_type": "stream",
     "text": [
      "SimCLR Epoch 44: loss=1.0936\n"
     ]
    },
    {
     "name": "stderr",
     "output_type": "stream",
     "text": [
      "SimCLR Epoch 45/100: 100%|██████████| 237/237 [03:22<00:00,  1.17it/s, loss=1.0961]\n"
     ]
    },
    {
     "name": "stdout",
     "output_type": "stream",
     "text": [
      "SimCLR Epoch 45: loss=1.0915\n"
     ]
    },
    {
     "name": "stderr",
     "output_type": "stream",
     "text": [
      "SimCLR Epoch 46/100: 100%|██████████| 237/237 [03:17<00:00,  1.20it/s, loss=1.0901]\n"
     ]
    },
    {
     "name": "stdout",
     "output_type": "stream",
     "text": [
      "SimCLR Epoch 46: loss=1.0855\n"
     ]
    },
    {
     "name": "stderr",
     "output_type": "stream",
     "text": [
      "SimCLR Epoch 47/100: 100%|██████████| 237/237 [03:16<00:00,  1.21it/s, loss=1.0884]\n"
     ]
    },
    {
     "name": "stdout",
     "output_type": "stream",
     "text": [
      "SimCLR Epoch 47: loss=1.0838\n"
     ]
    },
    {
     "name": "stderr",
     "output_type": "stream",
     "text": [
      "SimCLR Epoch 48/100: 100%|██████████| 237/237 [03:17<00:00,  1.20it/s, loss=1.0898]\n"
     ]
    },
    {
     "name": "stdout",
     "output_type": "stream",
     "text": [
      "SimCLR Epoch 48: loss=1.0852\n"
     ]
    },
    {
     "name": "stderr",
     "output_type": "stream",
     "text": [
      "SimCLR Epoch 49/100: 100%|██████████| 237/237 [03:18<00:00,  1.19it/s, loss=1.0835]\n"
     ]
    },
    {
     "name": "stdout",
     "output_type": "stream",
     "text": [
      "SimCLR Epoch 49: loss=1.0789\n"
     ]
    },
    {
     "name": "stderr",
     "output_type": "stream",
     "text": [
      "SimCLR Epoch 50/100: 100%|██████████| 237/237 [03:18<00:00,  1.19it/s, loss=1.0695]\n"
     ]
    },
    {
     "name": "stdout",
     "output_type": "stream",
     "text": [
      "SimCLR Epoch 50: loss=1.0650\n"
     ]
    },
    {
     "name": "stderr",
     "output_type": "stream",
     "text": [
      "SimCLR Epoch 51/100: 100%|██████████| 237/237 [03:18<00:00,  1.20it/s, loss=1.0721]\n"
     ]
    },
    {
     "name": "stdout",
     "output_type": "stream",
     "text": [
      "SimCLR Epoch 51: loss=1.0676\n"
     ]
    },
    {
     "name": "stderr",
     "output_type": "stream",
     "text": [
      "SimCLR Epoch 52/100: 100%|██████████| 237/237 [03:17<00:00,  1.20it/s, loss=1.0675]\n"
     ]
    },
    {
     "name": "stdout",
     "output_type": "stream",
     "text": [
      "SimCLR Epoch 52: loss=1.0630\n"
     ]
    },
    {
     "name": "stderr",
     "output_type": "stream",
     "text": [
      "SimCLR Epoch 53/100: 100%|██████████| 237/237 [03:17<00:00,  1.20it/s, loss=1.0610]\n"
     ]
    },
    {
     "name": "stdout",
     "output_type": "stream",
     "text": [
      "SimCLR Epoch 53: loss=1.0566\n"
     ]
    },
    {
     "name": "stderr",
     "output_type": "stream",
     "text": [
      "SimCLR Epoch 54/100: 100%|██████████| 237/237 [03:16<00:00,  1.20it/s, loss=1.0591]\n"
     ]
    },
    {
     "name": "stdout",
     "output_type": "stream",
     "text": [
      "SimCLR Epoch 54: loss=1.0546\n"
     ]
    },
    {
     "name": "stderr",
     "output_type": "stream",
     "text": [
      "SimCLR Epoch 55/100: 100%|██████████| 237/237 [03:09<00:00,  1.25it/s, loss=1.0533]\n"
     ]
    },
    {
     "name": "stdout",
     "output_type": "stream",
     "text": [
      "SimCLR Epoch 55: loss=1.0488\n"
     ]
    },
    {
     "name": "stderr",
     "output_type": "stream",
     "text": [
      "SimCLR Epoch 56/100: 100%|██████████| 237/237 [03:11<00:00,  1.24it/s, loss=1.0512]\n"
     ]
    },
    {
     "name": "stdout",
     "output_type": "stream",
     "text": [
      "SimCLR Epoch 56: loss=1.0468\n"
     ]
    },
    {
     "name": "stderr",
     "output_type": "stream",
     "text": [
      "SimCLR Epoch 57/100: 100%|██████████| 237/237 [03:14<00:00,  1.22it/s, loss=1.0434]\n"
     ]
    },
    {
     "name": "stdout",
     "output_type": "stream",
     "text": [
      "SimCLR Epoch 57: loss=1.0390\n"
     ]
    },
    {
     "name": "stderr",
     "output_type": "stream",
     "text": [
      "SimCLR Epoch 58/100: 100%|██████████| 237/237 [03:14<00:00,  1.22it/s, loss=1.0407]\n"
     ]
    },
    {
     "name": "stdout",
     "output_type": "stream",
     "text": [
      "SimCLR Epoch 58: loss=1.0363\n"
     ]
    },
    {
     "name": "stderr",
     "output_type": "stream",
     "text": [
      "SimCLR Epoch 59/100: 100%|██████████| 237/237 [03:13<00:00,  1.22it/s, loss=1.0413]\n"
     ]
    },
    {
     "name": "stdout",
     "output_type": "stream",
     "text": [
      "SimCLR Epoch 59: loss=1.0369\n"
     ]
    },
    {
     "name": "stderr",
     "output_type": "stream",
     "text": [
      "SimCLR Epoch 60/100: 100%|██████████| 237/237 [03:12<00:00,  1.23it/s, loss=1.0391]\n"
     ]
    },
    {
     "name": "stdout",
     "output_type": "stream",
     "text": [
      "SimCLR Epoch 60: loss=1.0348\n"
     ]
    },
    {
     "name": "stderr",
     "output_type": "stream",
     "text": [
      "SimCLR Epoch 61/100: 100%|██████████| 237/237 [03:15<00:00,  1.21it/s, loss=1.0305]\n"
     ]
    },
    {
     "name": "stdout",
     "output_type": "stream",
     "text": [
      "SimCLR Epoch 61: loss=1.0261\n"
     ]
    },
    {
     "name": "stderr",
     "output_type": "stream",
     "text": [
      "SimCLR Epoch 62/100: 100%|██████████| 237/237 [03:16<00:00,  1.21it/s, loss=1.0267]\n"
     ]
    },
    {
     "name": "stdout",
     "output_type": "stream",
     "text": [
      "SimCLR Epoch 62: loss=1.0224\n"
     ]
    },
    {
     "name": "stderr",
     "output_type": "stream",
     "text": [
      "SimCLR Epoch 63/100: 100%|██████████| 237/237 [03:12<00:00,  1.23it/s, loss=1.0269]\n"
     ]
    },
    {
     "name": "stdout",
     "output_type": "stream",
     "text": [
      "SimCLR Epoch 63: loss=1.0225\n"
     ]
    },
    {
     "name": "stderr",
     "output_type": "stream",
     "text": [
      "SimCLR Epoch 64/100: 100%|██████████| 237/237 [03:10<00:00,  1.25it/s, loss=1.0259]\n"
     ]
    },
    {
     "name": "stdout",
     "output_type": "stream",
     "text": [
      "SimCLR Epoch 64: loss=1.0216\n"
     ]
    },
    {
     "name": "stderr",
     "output_type": "stream",
     "text": [
      "SimCLR Epoch 65/100: 100%|██████████| 237/237 [03:11<00:00,  1.24it/s, loss=1.0309]\n"
     ]
    },
    {
     "name": "stdout",
     "output_type": "stream",
     "text": [
      "SimCLR Epoch 65: loss=1.0266\n"
     ]
    },
    {
     "name": "stderr",
     "output_type": "stream",
     "text": [
      "SimCLR Epoch 66/100: 100%|██████████| 237/237 [03:14<00:00,  1.22it/s, loss=1.0129]\n"
     ]
    },
    {
     "name": "stdout",
     "output_type": "stream",
     "text": [
      "SimCLR Epoch 66: loss=1.0087\n"
     ]
    },
    {
     "name": "stderr",
     "output_type": "stream",
     "text": [
      "SimCLR Epoch 67/100: 100%|██████████| 237/237 [03:16<00:00,  1.21it/s, loss=1.0150]\n"
     ]
    },
    {
     "name": "stdout",
     "output_type": "stream",
     "text": [
      "SimCLR Epoch 67: loss=1.0107\n"
     ]
    },
    {
     "name": "stderr",
     "output_type": "stream",
     "text": [
      "SimCLR Epoch 68/100: 100%|██████████| 237/237 [03:20<00:00,  1.18it/s, loss=1.0042]\n"
     ]
    },
    {
     "name": "stdout",
     "output_type": "stream",
     "text": [
      "SimCLR Epoch 68: loss=1.0000\n"
     ]
    },
    {
     "name": "stderr",
     "output_type": "stream",
     "text": [
      "SimCLR Epoch 69/100: 100%|██████████| 237/237 [03:16<00:00,  1.21it/s, loss=1.0106]\n"
     ]
    },
    {
     "name": "stdout",
     "output_type": "stream",
     "text": [
      "SimCLR Epoch 69: loss=1.0063\n"
     ]
    },
    {
     "name": "stderr",
     "output_type": "stream",
     "text": [
      "SimCLR Epoch 70/100: 100%|██████████| 237/237 [03:17<00:00,  1.20it/s, loss=1.0098]\n"
     ]
    },
    {
     "name": "stdout",
     "output_type": "stream",
     "text": [
      "SimCLR Epoch 70: loss=1.0055\n"
     ]
    },
    {
     "name": "stderr",
     "output_type": "stream",
     "text": [
      "SimCLR Epoch 71/100: 100%|██████████| 237/237 [03:15<00:00,  1.21it/s, loss=1.0006]\n"
     ]
    },
    {
     "name": "stdout",
     "output_type": "stream",
     "text": [
      "SimCLR Epoch 71: loss=0.9964\n"
     ]
    },
    {
     "name": "stderr",
     "output_type": "stream",
     "text": [
      "SimCLR Epoch 72/100: 100%|██████████| 237/237 [03:16<00:00,  1.20it/s, loss=1.0000]\n"
     ]
    },
    {
     "name": "stdout",
     "output_type": "stream",
     "text": [
      "SimCLR Epoch 72: loss=0.9958\n"
     ]
    },
    {
     "name": "stderr",
     "output_type": "stream",
     "text": [
      "SimCLR Epoch 73/100: 100%|██████████| 237/237 [03:14<00:00,  1.22it/s, loss=1.0160]\n"
     ]
    },
    {
     "name": "stdout",
     "output_type": "stream",
     "text": [
      "SimCLR Epoch 73: loss=1.0117\n"
     ]
    },
    {
     "name": "stderr",
     "output_type": "stream",
     "text": [
      "SimCLR Epoch 74/100: 100%|██████████| 237/237 [03:18<00:00,  1.20it/s, loss=0.9976]\n"
     ]
    },
    {
     "name": "stdout",
     "output_type": "stream",
     "text": [
      "SimCLR Epoch 74: loss=0.9934\n"
     ]
    },
    {
     "name": "stderr",
     "output_type": "stream",
     "text": [
      "SimCLR Epoch 75/100: 100%|██████████| 237/237 [03:16<00:00,  1.21it/s, loss=0.9925]\n"
     ]
    },
    {
     "name": "stdout",
     "output_type": "stream",
     "text": [
      "SimCLR Epoch 75: loss=0.9883\n"
     ]
    },
    {
     "name": "stderr",
     "output_type": "stream",
     "text": [
      "SimCLR Epoch 76/100: 100%|██████████| 237/237 [03:14<00:00,  1.22it/s, loss=0.9965]\n"
     ]
    },
    {
     "name": "stdout",
     "output_type": "stream",
     "text": [
      "SimCLR Epoch 76: loss=0.9923\n"
     ]
    },
    {
     "name": "stderr",
     "output_type": "stream",
     "text": [
      "SimCLR Epoch 77/100: 100%|██████████| 237/237 [03:14<00:00,  1.22it/s, loss=0.9911]\n"
     ]
    },
    {
     "name": "stdout",
     "output_type": "stream",
     "text": [
      "SimCLR Epoch 77: loss=0.9869\n"
     ]
    },
    {
     "name": "stderr",
     "output_type": "stream",
     "text": [
      "SimCLR Epoch 78/100: 100%|██████████| 237/237 [03:16<00:00,  1.21it/s, loss=0.9957]\n"
     ]
    },
    {
     "name": "stdout",
     "output_type": "stream",
     "text": [
      "SimCLR Epoch 78: loss=0.9915\n"
     ]
    },
    {
     "name": "stderr",
     "output_type": "stream",
     "text": [
      "SimCLR Epoch 79/100: 100%|██████████| 237/237 [03:16<00:00,  1.21it/s, loss=0.9845]\n"
     ]
    },
    {
     "name": "stdout",
     "output_type": "stream",
     "text": [
      "SimCLR Epoch 79: loss=0.9803\n"
     ]
    },
    {
     "name": "stderr",
     "output_type": "stream",
     "text": [
      "SimCLR Epoch 80/100: 100%|██████████| 237/237 [03:13<00:00,  1.22it/s, loss=0.9846]\n"
     ]
    },
    {
     "name": "stdout",
     "output_type": "stream",
     "text": [
      "SimCLR Epoch 80: loss=0.9804\n"
     ]
    },
    {
     "name": "stderr",
     "output_type": "stream",
     "text": [
      "SimCLR Epoch 81/100: 100%|██████████| 237/237 [03:19<00:00,  1.19it/s, loss=0.9735]\n"
     ]
    },
    {
     "name": "stdout",
     "output_type": "stream",
     "text": [
      "SimCLR Epoch 81: loss=0.9694\n"
     ]
    },
    {
     "name": "stderr",
     "output_type": "stream",
     "text": [
      "SimCLR Epoch 82/100: 100%|██████████| 237/237 [03:15<00:00,  1.22it/s, loss=0.9866]\n"
     ]
    },
    {
     "name": "stdout",
     "output_type": "stream",
     "text": [
      "SimCLR Epoch 82: loss=0.9825\n"
     ]
    },
    {
     "name": "stderr",
     "output_type": "stream",
     "text": [
      "SimCLR Epoch 83/100: 100%|██████████| 237/237 [03:15<00:00,  1.21it/s, loss=0.9740]\n"
     ]
    },
    {
     "name": "stdout",
     "output_type": "stream",
     "text": [
      "SimCLR Epoch 83: loss=0.9699\n"
     ]
    },
    {
     "name": "stderr",
     "output_type": "stream",
     "text": [
      "SimCLR Epoch 84/100: 100%|██████████| 237/237 [03:15<00:00,  1.21it/s, loss=0.9853]\n"
     ]
    },
    {
     "name": "stdout",
     "output_type": "stream",
     "text": [
      "SimCLR Epoch 84: loss=0.9811\n"
     ]
    },
    {
     "name": "stderr",
     "output_type": "stream",
     "text": [
      "SimCLR Epoch 85/100: 100%|██████████| 237/237 [03:16<00:00,  1.20it/s, loss=0.9612]\n"
     ]
    },
    {
     "name": "stdout",
     "output_type": "stream",
     "text": [
      "SimCLR Epoch 85: loss=0.9572\n"
     ]
    },
    {
     "name": "stderr",
     "output_type": "stream",
     "text": [
      "SimCLR Epoch 86/100: 100%|██████████| 237/237 [03:19<00:00,  1.19it/s, loss=0.9730]\n"
     ]
    },
    {
     "name": "stdout",
     "output_type": "stream",
     "text": [
      "SimCLR Epoch 86: loss=0.9689\n"
     ]
    },
    {
     "name": "stderr",
     "output_type": "stream",
     "text": [
      "SimCLR Epoch 87/100: 100%|██████████| 237/237 [03:18<00:00,  1.19it/s, loss=0.9673]\n"
     ]
    },
    {
     "name": "stdout",
     "output_type": "stream",
     "text": [
      "SimCLR Epoch 87: loss=0.9632\n"
     ]
    },
    {
     "name": "stderr",
     "output_type": "stream",
     "text": [
      "SimCLR Epoch 88/100: 100%|██████████| 237/237 [03:16<00:00,  1.21it/s, loss=0.9778]\n"
     ]
    },
    {
     "name": "stdout",
     "output_type": "stream",
     "text": [
      "SimCLR Epoch 88: loss=0.9737\n"
     ]
    },
    {
     "name": "stderr",
     "output_type": "stream",
     "text": [
      "SimCLR Epoch 89/100: 100%|██████████| 237/237 [03:15<00:00,  1.21it/s, loss=0.9720]\n"
     ]
    },
    {
     "name": "stdout",
     "output_type": "stream",
     "text": [
      "SimCLR Epoch 89: loss=0.9679\n"
     ]
    },
    {
     "name": "stderr",
     "output_type": "stream",
     "text": [
      "SimCLR Epoch 90/100: 100%|██████████| 237/237 [03:15<00:00,  1.21it/s, loss=0.9794]\n"
     ]
    },
    {
     "name": "stdout",
     "output_type": "stream",
     "text": [
      "SimCLR Epoch 90: loss=0.9753\n"
     ]
    },
    {
     "name": "stderr",
     "output_type": "stream",
     "text": [
      "SimCLR Epoch 91/100: 100%|██████████| 237/237 [03:11<00:00,  1.23it/s, loss=0.9778]\n"
     ]
    },
    {
     "name": "stdout",
     "output_type": "stream",
     "text": [
      "SimCLR Epoch 91: loss=0.9736\n"
     ]
    },
    {
     "name": "stderr",
     "output_type": "stream",
     "text": [
      "SimCLR Epoch 92/100: 100%|██████████| 237/237 [03:16<00:00,  1.20it/s, loss=0.9731]\n"
     ]
    },
    {
     "name": "stdout",
     "output_type": "stream",
     "text": [
      "SimCLR Epoch 92: loss=0.9690\n"
     ]
    },
    {
     "name": "stderr",
     "output_type": "stream",
     "text": [
      "SimCLR Epoch 93/100: 100%|██████████| 237/237 [03:18<00:00,  1.19it/s, loss=0.9684]\n"
     ]
    },
    {
     "name": "stdout",
     "output_type": "stream",
     "text": [
      "SimCLR Epoch 93: loss=0.9643\n"
     ]
    },
    {
     "name": "stderr",
     "output_type": "stream",
     "text": [
      "SimCLR Epoch 94/100: 100%|██████████| 237/237 [03:12<00:00,  1.23it/s, loss=0.9662]\n"
     ]
    },
    {
     "name": "stdout",
     "output_type": "stream",
     "text": [
      "SimCLR Epoch 94: loss=0.9621\n"
     ]
    },
    {
     "name": "stderr",
     "output_type": "stream",
     "text": [
      "SimCLR Epoch 95/100: 100%|██████████| 237/237 [03:19<00:00,  1.19it/s, loss=0.9683]\n"
     ]
    },
    {
     "name": "stdout",
     "output_type": "stream",
     "text": [
      "SimCLR Epoch 95: loss=0.9642\n"
     ]
    },
    {
     "name": "stderr",
     "output_type": "stream",
     "text": [
      "SimCLR Epoch 96/100: 100%|██████████| 237/237 [03:18<00:00,  1.19it/s, loss=0.9658]\n"
     ]
    },
    {
     "name": "stdout",
     "output_type": "stream",
     "text": [
      "SimCLR Epoch 96: loss=0.9618\n"
     ]
    },
    {
     "name": "stderr",
     "output_type": "stream",
     "text": [
      "SimCLR Epoch 97/100: 100%|██████████| 237/237 [03:19<00:00,  1.19it/s, loss=0.9678]\n"
     ]
    },
    {
     "name": "stdout",
     "output_type": "stream",
     "text": [
      "SimCLR Epoch 97: loss=0.9637\n"
     ]
    },
    {
     "name": "stderr",
     "output_type": "stream",
     "text": [
      "SimCLR Epoch 98/100: 100%|██████████| 237/237 [03:21<00:00,  1.17it/s, loss=0.9685]\n"
     ]
    },
    {
     "name": "stdout",
     "output_type": "stream",
     "text": [
      "SimCLR Epoch 98: loss=0.9644\n"
     ]
    },
    {
     "name": "stderr",
     "output_type": "stream",
     "text": [
      "SimCLR Epoch 99/100: 100%|██████████| 237/237 [03:16<00:00,  1.20it/s, loss=0.9825]\n"
     ]
    },
    {
     "name": "stdout",
     "output_type": "stream",
     "text": [
      "SimCLR Epoch 99: loss=0.9783\n"
     ]
    },
    {
     "name": "stderr",
     "output_type": "stream",
     "text": [
      "SimCLR Epoch 100/100: 100%|██████████| 237/237 [03:18<00:00,  1.19it/s, loss=0.9641]\n"
     ]
    },
    {
     "name": "stdout",
     "output_type": "stream",
     "text": [
      "SimCLR Epoch 100: loss=0.9600\n",
      "Saved SimCLR encoder to: ./simclr_encoder.pth\n"
     ]
    },
    {
     "name": "stderr",
     "output_type": "stream",
     "text": [
      "/tmp/ipykernel_19/3857703179.py:302: FutureWarning: `torch.cuda.amp.GradScaler(args...)` is deprecated. Please use `torch.amp.GradScaler('cuda', args...)` instead.\n",
      "  scaler_ft = torch.cuda.amp.GradScaler(enabled=(DEVICE.type == 'cuda'))\n",
      "FT Epoch 1/30:   0%|          | 0/238 [00:00<?, ?it/s]/tmp/ipykernel_19/3857703179.py:327: FutureWarning: `torch.cuda.amp.autocast(args...)` is deprecated. Please use `torch.amp.autocast('cuda', args...)` instead.\n",
      "  with torch.cuda.amp.autocast(enabled=(DEVICE.type == 'cuda')):\n",
      "FT Epoch 1/30: 100%|██████████| 238/238 [01:30<00:00,  2.64it/s]"
     ]
    },
    {
     "name": "stdout",
     "output_type": "stream",
     "text": [
      "[FT] Epoch 1: loss=1.8906 | acc=0.5492\n"
     ]
    },
    {
     "name": "stderr",
     "output_type": "stream",
     "text": [
      "\n"
     ]
    },
    {
     "name": "stdout",
     "output_type": "stream",
     "text": [
      "[Eval] top1=0.3508 (best=0.3508)\n"
     ]
    },
    {
     "name": "stderr",
     "output_type": "stream",
     "text": [
      "FT Epoch 2/30: 100%|██████████| 238/238 [01:30<00:00,  2.63it/s]"
     ]
    },
    {
     "name": "stdout",
     "output_type": "stream",
     "text": [
      "[FT] Epoch 2: loss=1.1475 | acc=0.8020\n"
     ]
    },
    {
     "name": "stderr",
     "output_type": "stream",
     "text": [
      "\n"
     ]
    },
    {
     "name": "stdout",
     "output_type": "stream",
     "text": [
      "[Eval] top1=0.5413 (best=0.5413)\n"
     ]
    },
    {
     "name": "stderr",
     "output_type": "stream",
     "text": [
      "FT Epoch 3/30: 100%|██████████| 238/238 [01:30<00:00,  2.63it/s]"
     ]
    },
    {
     "name": "stdout",
     "output_type": "stream",
     "text": [
      "[FT] Epoch 3: loss=0.9689 | acc=0.8712\n"
     ]
    },
    {
     "name": "stderr",
     "output_type": "stream",
     "text": [
      "\n"
     ]
    },
    {
     "name": "stdout",
     "output_type": "stream",
     "text": [
      "[Eval] top1=0.6326 (best=0.6326)\n"
     ]
    },
    {
     "name": "stderr",
     "output_type": "stream",
     "text": [
      "FT Epoch 4/30: 100%|██████████| 238/238 [01:30<00:00,  2.63it/s]"
     ]
    },
    {
     "name": "stdout",
     "output_type": "stream",
     "text": [
      "[FT] Epoch 4: loss=0.8493 | acc=0.9082\n"
     ]
    },
    {
     "name": "stderr",
     "output_type": "stream",
     "text": [
      "\n"
     ]
    },
    {
     "name": "stdout",
     "output_type": "stream",
     "text": [
      "[Eval] top1=0.6889 (best=0.6889)\n"
     ]
    },
    {
     "name": "stderr",
     "output_type": "stream",
     "text": [
      "FT Epoch 5/30: 100%|██████████| 238/238 [01:30<00:00,  2.63it/s]"
     ]
    },
    {
     "name": "stdout",
     "output_type": "stream",
     "text": [
      "[FT] Epoch 5: loss=0.7294 | acc=0.9303\n"
     ]
    },
    {
     "name": "stderr",
     "output_type": "stream",
     "text": [
      "\n"
     ]
    },
    {
     "name": "stdout",
     "output_type": "stream",
     "text": [
      "[Eval] top1=0.7363 (best=0.7363)\n"
     ]
    },
    {
     "name": "stderr",
     "output_type": "stream",
     "text": [
      "FT Epoch 6/30: 100%|██████████| 238/238 [01:30<00:00,  2.63it/s]"
     ]
    },
    {
     "name": "stdout",
     "output_type": "stream",
     "text": [
      "[FT] Epoch 6: loss=0.6691 | acc=0.9468\n"
     ]
    },
    {
     "name": "stderr",
     "output_type": "stream",
     "text": [
      "\n"
     ]
    },
    {
     "name": "stdout",
     "output_type": "stream",
     "text": [
      "[Eval] top1=0.7853 (best=0.7853)\n"
     ]
    },
    {
     "name": "stderr",
     "output_type": "stream",
     "text": [
      "FT Epoch 7/30: 100%|██████████| 238/238 [01:30<00:00,  2.63it/s]"
     ]
    },
    {
     "name": "stdout",
     "output_type": "stream",
     "text": [
      "[FT] Epoch 7: loss=0.7241 | acc=0.9571\n"
     ]
    },
    {
     "name": "stderr",
     "output_type": "stream",
     "text": [
      "\n"
     ]
    },
    {
     "name": "stdout",
     "output_type": "stream",
     "text": [
      "[Eval] top1=0.8205 (best=0.8205)\n"
     ]
    },
    {
     "name": "stderr",
     "output_type": "stream",
     "text": [
      "FT Epoch 8/30: 100%|██████████| 238/238 [01:30<00:00,  2.64it/s]"
     ]
    },
    {
     "name": "stdout",
     "output_type": "stream",
     "text": [
      "[FT] Epoch 8: loss=0.5833 | acc=0.9651\n"
     ]
    },
    {
     "name": "stderr",
     "output_type": "stream",
     "text": [
      "\n"
     ]
    },
    {
     "name": "stdout",
     "output_type": "stream",
     "text": [
      "[Eval] top1=0.8526 (best=0.8526)\n"
     ]
    },
    {
     "name": "stderr",
     "output_type": "stream",
     "text": [
      "FT Epoch 9/30: 100%|██████████| 238/238 [01:30<00:00,  2.63it/s]"
     ]
    },
    {
     "name": "stdout",
     "output_type": "stream",
     "text": [
      "[FT] Epoch 9: loss=0.6505 | acc=0.9703\n"
     ]
    },
    {
     "name": "stderr",
     "output_type": "stream",
     "text": [
      "\n"
     ]
    },
    {
     "name": "stdout",
     "output_type": "stream",
     "text": [
      "[Eval] top1=0.8763 (best=0.8763)\n"
     ]
    },
    {
     "name": "stderr",
     "output_type": "stream",
     "text": [
      "FT Epoch 10/30: 100%|██████████| 238/238 [01:30<00:00,  2.63it/s]"
     ]
    },
    {
     "name": "stdout",
     "output_type": "stream",
     "text": [
      "[FT] Epoch 10: loss=0.5789 | acc=0.9793\n"
     ]
    },
    {
     "name": "stderr",
     "output_type": "stream",
     "text": [
      "\n"
     ]
    },
    {
     "name": "stdout",
     "output_type": "stream",
     "text": [
      "[Eval] top1=0.8932 (best=0.8932)\n"
     ]
    },
    {
     "name": "stderr",
     "output_type": "stream",
     "text": [
      "FT Epoch 11/30: 100%|██████████| 238/238 [01:30<00:00,  2.63it/s]"
     ]
    },
    {
     "name": "stdout",
     "output_type": "stream",
     "text": [
      "[FT] Epoch 11: loss=0.4993 | acc=0.9817\n"
     ]
    },
    {
     "name": "stderr",
     "output_type": "stream",
     "text": [
      "\n"
     ]
    },
    {
     "name": "stdout",
     "output_type": "stream",
     "text": [
      "[Eval] top1=0.9061 (best=0.9061)\n"
     ]
    },
    {
     "name": "stderr",
     "output_type": "stream",
     "text": [
      "FT Epoch 12/30: 100%|██████████| 238/238 [01:30<00:00,  2.63it/s]"
     ]
    },
    {
     "name": "stdout",
     "output_type": "stream",
     "text": [
      "[FT] Epoch 12: loss=0.5302 | acc=0.9869\n"
     ]
    },
    {
     "name": "stderr",
     "output_type": "stream",
     "text": [
      "\n"
     ]
    },
    {
     "name": "stdout",
     "output_type": "stream",
     "text": [
      "[Eval] top1=0.9187 (best=0.9187)\n"
     ]
    },
    {
     "name": "stderr",
     "output_type": "stream",
     "text": [
      "FT Epoch 13/30: 100%|██████████| 238/238 [01:30<00:00,  2.63it/s]"
     ]
    },
    {
     "name": "stdout",
     "output_type": "stream",
     "text": [
      "[FT] Epoch 13: loss=0.4939 | acc=0.9874\n"
     ]
    },
    {
     "name": "stderr",
     "output_type": "stream",
     "text": [
      "\n"
     ]
    },
    {
     "name": "stdout",
     "output_type": "stream",
     "text": [
      "[Eval] top1=0.9274 (best=0.9274)\n"
     ]
    },
    {
     "name": "stderr",
     "output_type": "stream",
     "text": [
      "FT Epoch 14/30: 100%|██████████| 238/238 [01:30<00:00,  2.62it/s]"
     ]
    },
    {
     "name": "stdout",
     "output_type": "stream",
     "text": [
      "[FT] Epoch 14: loss=0.4742 | acc=0.9876\n"
     ]
    },
    {
     "name": "stderr",
     "output_type": "stream",
     "text": [
      "\n"
     ]
    },
    {
     "name": "stdout",
     "output_type": "stream",
     "text": [
      "[Eval] top1=0.9300 (best=0.9300)\n"
     ]
    },
    {
     "name": "stderr",
     "output_type": "stream",
     "text": [
      "FT Epoch 15/30: 100%|██████████| 238/238 [01:30<00:00,  2.63it/s]"
     ]
    },
    {
     "name": "stdout",
     "output_type": "stream",
     "text": [
      "[FT] Epoch 15: loss=0.4857 | acc=0.9902\n"
     ]
    },
    {
     "name": "stderr",
     "output_type": "stream",
     "text": [
      "\n"
     ]
    },
    {
     "name": "stdout",
     "output_type": "stream",
     "text": [
      "[Eval] top1=0.9326 (best=0.9326)\n"
     ]
    },
    {
     "name": "stderr",
     "output_type": "stream",
     "text": [
      "FT Epoch 16/30: 100%|██████████| 238/238 [01:30<00:00,  2.63it/s]"
     ]
    },
    {
     "name": "stdout",
     "output_type": "stream",
     "text": [
      "[FT] Epoch 16: loss=0.4572 | acc=0.9919\n"
     ]
    },
    {
     "name": "stderr",
     "output_type": "stream",
     "text": [
      "\n"
     ]
    },
    {
     "name": "stdout",
     "output_type": "stream",
     "text": [
      "[Eval] top1=0.9350 (best=0.9350)\n"
     ]
    },
    {
     "name": "stderr",
     "output_type": "stream",
     "text": [
      "FT Epoch 17/30: 100%|██████████| 238/238 [01:30<00:00,  2.63it/s]"
     ]
    },
    {
     "name": "stdout",
     "output_type": "stream",
     "text": [
      "[FT] Epoch 17: loss=0.4517 | acc=0.9915\n"
     ]
    },
    {
     "name": "stderr",
     "output_type": "stream",
     "text": [
      "\n"
     ]
    },
    {
     "name": "stdout",
     "output_type": "stream",
     "text": [
      "[Eval] top1=0.9353 (best=0.9353)\n"
     ]
    },
    {
     "name": "stderr",
     "output_type": "stream",
     "text": [
      "FT Epoch 18/30: 100%|██████████| 238/238 [01:30<00:00,  2.63it/s]"
     ]
    },
    {
     "name": "stdout",
     "output_type": "stream",
     "text": [
      "[FT] Epoch 18: loss=0.4930 | acc=0.9932\n"
     ]
    },
    {
     "name": "stderr",
     "output_type": "stream",
     "text": [
      "\n"
     ]
    },
    {
     "name": "stdout",
     "output_type": "stream",
     "text": [
      "[Eval] top1=0.9379 (best=0.9379)\n"
     ]
    },
    {
     "name": "stderr",
     "output_type": "stream",
     "text": [
      "FT Epoch 19/30: 100%|██████████| 238/238 [01:30<00:00,  2.63it/s]"
     ]
    },
    {
     "name": "stdout",
     "output_type": "stream",
     "text": [
      "[FT] Epoch 19: loss=0.4938 | acc=0.9935\n"
     ]
    },
    {
     "name": "stderr",
     "output_type": "stream",
     "text": [
      "\n"
     ]
    },
    {
     "name": "stdout",
     "output_type": "stream",
     "text": [
      "[Eval] top1=0.9421 (best=0.9421)\n"
     ]
    },
    {
     "name": "stderr",
     "output_type": "stream",
     "text": [
      "FT Epoch 20/30: 100%|██████████| 238/238 [01:30<00:00,  2.63it/s]"
     ]
    },
    {
     "name": "stdout",
     "output_type": "stream",
     "text": [
      "[FT] Epoch 20: loss=0.4813 | acc=0.9942\n"
     ]
    },
    {
     "name": "stderr",
     "output_type": "stream",
     "text": [
      "\n"
     ]
    },
    {
     "name": "stdout",
     "output_type": "stream",
     "text": [
      "[Eval] top1=0.9439 (best=0.9439)\n"
     ]
    },
    {
     "name": "stderr",
     "output_type": "stream",
     "text": [
      "FT Epoch 21/30: 100%|██████████| 238/238 [01:30<00:00,  2.63it/s]"
     ]
    },
    {
     "name": "stdout",
     "output_type": "stream",
     "text": [
      "[FT] Epoch 21: loss=0.5098 | acc=0.9943\n"
     ]
    },
    {
     "name": "stderr",
     "output_type": "stream",
     "text": [
      "\n"
     ]
    },
    {
     "name": "stdout",
     "output_type": "stream",
     "text": [
      "[Eval] top1=0.9437 (best=0.9439)\n"
     ]
    },
    {
     "name": "stderr",
     "output_type": "stream",
     "text": [
      "FT Epoch 22/30: 100%|██████████| 238/238 [01:30<00:00,  2.63it/s]"
     ]
    },
    {
     "name": "stdout",
     "output_type": "stream",
     "text": [
      "[FT] Epoch 22: loss=0.4619 | acc=0.9953\n"
     ]
    },
    {
     "name": "stderr",
     "output_type": "stream",
     "text": [
      "\n"
     ]
    },
    {
     "name": "stdout",
     "output_type": "stream",
     "text": [
      "[Eval] top1=0.9450 (best=0.9450)\n"
     ]
    },
    {
     "name": "stderr",
     "output_type": "stream",
     "text": [
      "FT Epoch 23/30: 100%|██████████| 238/238 [01:30<00:00,  2.63it/s]"
     ]
    },
    {
     "name": "stdout",
     "output_type": "stream",
     "text": [
      "[FT] Epoch 23: loss=0.4101 | acc=0.9963\n"
     ]
    },
    {
     "name": "stderr",
     "output_type": "stream",
     "text": [
      "\n"
     ]
    },
    {
     "name": "stdout",
     "output_type": "stream",
     "text": [
      "[Eval] top1=0.9458 (best=0.9458)\n"
     ]
    },
    {
     "name": "stderr",
     "output_type": "stream",
     "text": [
      "FT Epoch 24/30: 100%|██████████| 238/238 [01:30<00:00,  2.62it/s]"
     ]
    },
    {
     "name": "stdout",
     "output_type": "stream",
     "text": [
      "[FT] Epoch 24: loss=0.4318 | acc=0.9972\n"
     ]
    },
    {
     "name": "stderr",
     "output_type": "stream",
     "text": [
      "\n"
     ]
    },
    {
     "name": "stdout",
     "output_type": "stream",
     "text": [
      "[Eval] top1=0.9463 (best=0.9463)\n"
     ]
    },
    {
     "name": "stderr",
     "output_type": "stream",
     "text": [
      "FT Epoch 25/30: 100%|██████████| 238/238 [01:30<00:00,  2.62it/s]"
     ]
    },
    {
     "name": "stdout",
     "output_type": "stream",
     "text": [
      "[FT] Epoch 25: loss=0.4054 | acc=0.9974\n"
     ]
    },
    {
     "name": "stderr",
     "output_type": "stream",
     "text": [
      "\n"
     ]
    },
    {
     "name": "stdout",
     "output_type": "stream",
     "text": [
      "[Eval] top1=0.9471 (best=0.9471)\n"
     ]
    },
    {
     "name": "stderr",
     "output_type": "stream",
     "text": [
      "FT Epoch 26/30: 100%|██████████| 238/238 [01:30<00:00,  2.63it/s]"
     ]
    },
    {
     "name": "stdout",
     "output_type": "stream",
     "text": [
      "[FT] Epoch 26: loss=0.5133 | acc=0.9967\n"
     ]
    },
    {
     "name": "stderr",
     "output_type": "stream",
     "text": [
      "\n"
     ]
    },
    {
     "name": "stdout",
     "output_type": "stream",
     "text": [
      "[Eval] top1=0.9474 (best=0.9474)\n"
     ]
    },
    {
     "name": "stderr",
     "output_type": "stream",
     "text": [
      "FT Epoch 27/30: 100%|██████████| 238/238 [01:30<00:00,  2.63it/s]"
     ]
    },
    {
     "name": "stdout",
     "output_type": "stream",
     "text": [
      "[FT] Epoch 27: loss=0.3804 | acc=0.9967\n"
     ]
    },
    {
     "name": "stderr",
     "output_type": "stream",
     "text": [
      "\n"
     ]
    },
    {
     "name": "stdout",
     "output_type": "stream",
     "text": [
      "[Eval] top1=0.9476 (best=0.9476)\n"
     ]
    },
    {
     "name": "stderr",
     "output_type": "stream",
     "text": [
      "FT Epoch 28/30: 100%|██████████| 238/238 [01:30<00:00,  2.63it/s]"
     ]
    },
    {
     "name": "stdout",
     "output_type": "stream",
     "text": [
      "[FT] Epoch 28: loss=0.4360 | acc=0.9972\n"
     ]
    },
    {
     "name": "stderr",
     "output_type": "stream",
     "text": [
      "\n"
     ]
    },
    {
     "name": "stdout",
     "output_type": "stream",
     "text": [
      "[Eval] top1=0.9476 (best=0.9476)\n"
     ]
    },
    {
     "name": "stderr",
     "output_type": "stream",
     "text": [
      "FT Epoch 29/30: 100%|██████████| 238/238 [01:30<00:00,  2.62it/s]"
     ]
    },
    {
     "name": "stdout",
     "output_type": "stream",
     "text": [
      "[FT] Epoch 29: loss=0.4397 | acc=0.9972\n"
     ]
    },
    {
     "name": "stderr",
     "output_type": "stream",
     "text": [
      "\n"
     ]
    },
    {
     "name": "stdout",
     "output_type": "stream",
     "text": [
      "[Eval] top1=0.9479 (best=0.9479)\n"
     ]
    },
    {
     "name": "stderr",
     "output_type": "stream",
     "text": [
      "FT Epoch 30/30: 100%|██████████| 238/238 [01:30<00:00,  2.64it/s]"
     ]
    },
    {
     "name": "stdout",
     "output_type": "stream",
     "text": [
      "[FT] Epoch 30: loss=0.4705 | acc=0.9976\n"
     ]
    },
    {
     "name": "stderr",
     "output_type": "stream",
     "text": [
      "\n"
     ]
    },
    {
     "name": "stdout",
     "output_type": "stream",
     "text": [
      "[Eval] top1=0.9471 (best=0.9479)\n",
      "\n",
      "=== SimCLR -> End-to-End Fine-Tune: Held-out Test ===\n",
      "              precision    recall  f1-score   support\n",
      "\n",
      "           0     0.8739    0.9700    0.9194       100\n",
      "           1     0.9796    0.9600    0.9697       100\n",
      "           2     1.0000    0.9800    0.9899       100\n",
      "           3     0.9043    0.8500    0.8763       100\n",
      "           4     0.9703    0.9800    0.9751       100\n",
      "           5     0.8584    0.9700    0.9108       100\n",
      "           6     0.9238    0.9700    0.9463       100\n",
      "           7     0.9900    0.9900    0.9900       100\n",
      "           8     0.9897    0.9600    0.9746       100\n",
      "           9     1.0000    1.0000    1.0000       100\n",
      "          10     0.9355    0.8700    0.9016       100\n",
      "          11     1.0000    0.9800    0.9899       100\n",
      "          12     0.9400    0.9400    0.9400       100\n",
      "          13     0.9794    0.9500    0.9645       100\n",
      "          14     0.9802    0.9900    0.9851       100\n",
      "          15     0.9800    0.9800    0.9800       100\n",
      "          16     0.9479    0.9100    0.9286       100\n",
      "          17     1.0000    0.9800    0.9899       100\n",
      "          18     0.9789    0.9300    0.9538       100\n",
      "          19     0.9901    1.0000    0.9950       100\n",
      "          20     0.9709    1.0000    0.9852       100\n",
      "          21     0.9706    0.9900    0.9802       100\n",
      "          22     1.0000    0.9900    0.9950       100\n",
      "          23     0.8033    0.9800    0.8829       100\n",
      "          24     0.8673    0.9800    0.9202       100\n",
      "          25     0.9691    0.9400    0.9543       100\n",
      "          26     0.9121    0.8300    0.8691       100\n",
      "          27     0.9252    0.9900    0.9565       100\n",
      "          28     0.9898    0.9700    0.9798       100\n",
      "          29     0.9223    0.9500    0.9360       100\n",
      "          30     1.0000    1.0000    1.0000       100\n",
      "          31     0.9302    0.8000    0.8602       100\n",
      "          32     0.9608    0.9800    0.9703       100\n",
      "          33     0.9022    0.8300    0.8646       100\n",
      "          34     0.9898    0.9700    0.9798       100\n",
      "          35     0.8440    0.9200    0.8804       100\n",
      "          36     0.9495    0.9400    0.9447       100\n",
      "          37     0.9639    0.8000    0.8743       100\n",
      "\n",
      "    accuracy                         0.9479      3800\n",
      "   macro avg     0.9498    0.9479    0.9477      3800\n",
      "weighted avg     0.9498    0.9479    0.9477      3800\n",
      "\n"
     ]
    },
    {
     "data": {
      "image/png": "[encoded data removed]",
      "text/plain": [
       "<Figure size 1200x1000 with 2 Axes>"
      ]
     },
     "metadata": {},
     "output_type": "display_data"
    },
    {
     "data": {
      "image/png": "[encoded data removed]",
      "text/plain": [
       "<Figure size 700x400 with 1 Axes>"
      ]
     },
     "metadata": {},
     "output_type": "display_data"
    },
    {
     "data": {
      "image/png": "[encoded data removed]",
      "text/plain": [
       "<Figure size 1800x400 with 3 Axes>"
      ]
     },
     "metadata": {},
     "output_type": "display_data"
    }
   ],
   "source": [
    "# === SimCLR + End-to-End Fine-Tune (no freezing) ===\n",
    "# With EMA (fine-tune), MixUp, and TTA + Curves (fp16-safe)\n",
    "import os, math, numpy as np\n",
    "from tqdm import tqdm\n",
    "\n",
    "import torch\n",
    "import torch.nn as nn\n",
    "import torch.nn.functional as F\n",
    "\n",
    "from torchvision import datasets, transforms, models\n",
    "from torch.utils.data import DataLoader, Subset\n",
    "from sklearn.model_selection import StratifiedShuffleSplit\n",
    "from sklearn.metrics import classification_report, confusion_matrix\n",
    "import matplotlib.pyplot as plt\n",
    "import seaborn as sns\n",
    "\n",
    "# -----------------------\n",
    "# Config\n",
    "# -----------------------\n",
    "DATA_DIR = '/kaggle/input/rice-data-cse475/Original/Original'\n",
    "SAVE_DIR = './'\n",
    "os.makedirs(SAVE_DIR, exist_ok=True)\n",
    "\n",
    "BATCH_SIZE = 64\n",
    "NUM_WORKERS = 4\n",
    "SEED = 42\n",
    "DEVICE = torch.device('cuda' if torch.cuda.is_available() else 'cpu')\n",
    "torch.manual_seed(SEED); np.random.seed(SEED)\n",
    "\n",
    "# SimCLR pretrain\n",
    "SIMCLR_EPOCHS = 100        # try 200–400 if you can\n",
    "SIMCLR_LR = 3e-4\n",
    "SIMCLR_WEIGHT_DECAY = 1e-6\n",
    "TEMPERATURE = 0.2\n",
    "\n",
    "# Supervised fine-tune (NO FREEZING)\n",
    "FINETUNE_EPOCHS = 30\n",
    "FT_LR_BACKBONE = 1e-4      # lower LR for encoder\n",
    "FT_LR_HEAD = 1e-3          # higher LR for classifier head\n",
    "FT_WEIGHT_DECAY = 1e-4\n",
    "LABEL_SMOOTH = 0.0         # if using MixUp, keep 0 or very small\n",
    "\n",
    "USE_IMAGENET_WEIGHTS = True\n",
    "\n",
    "# Extras\n",
    "USE_EMA = True             # EMA of fine-tune weights\n",
    "EMA_DECAY = 0.999\n",
    "USE_MIXUP = True\n",
    "MIXUP_ALPHA = 0.2\n",
    "USE_TTA = True             # eval-time flip TTA\n",
    "\n",
    "# Histories for curves\n",
    "simclr_loss_hist = []\n",
    "ft_loss_hist = []\n",
    "ft_acc_hist = []\n",
    "val_acc_hist = []\n",
    "\n",
    "# -----------------------\n",
    "# Augmentations\n",
    "# -----------------------\n",
    "class TwoCropsTransform:\n",
    "    \"\"\"Return two random augmentations of the same image (SimCLR).\"\"\"\n",
    "    def __init__(self, size=224):\n",
    "        normalize = transforms.Normalize([0.485, 0.456, 0.406],\n",
    "                                         [0.229, 0.224, 0.225])\n",
    "        self.transform = transforms.Compose([\n",
    "            transforms.RandomResizedCrop(size, scale=(0.08, 1.0)),\n",
    "            transforms.RandomHorizontalFlip(),\n",
    "            transforms.RandomApply([transforms.ColorJitter(0.4, 0.4, 0.4, 0.1)], p=0.8),\n",
    "            transforms.RandomGrayscale(p=0.2),\n",
    "            transforms.GaussianBlur(kernel_size=9, sigma=(0.1, 2.0)),\n",
    "            transforms.ToTensor(),\n",
    "            normalize,\n",
    "        ])\n",
    "    def __call__(self, x):\n",
    "        return self.transform(x), self.transform(x)\n",
    "\n",
    "supervised_train_tf = transforms.Compose([\n",
    "    transforms.RandomResizedCrop(224, scale=(0.6, 1.0)),\n",
    "    transforms.RandomHorizontalFlip(),\n",
    "    transforms.ToTensor(),\n",
    "    transforms.Normalize([0.485, 0.456, 0.406],\n",
    "                         [0.229, 0.224, 0.225]),\n",
    "])\n",
    "eval_tf = transforms.Compose([\n",
    "    transforms.Resize(256),\n",
    "    transforms.CenterCrop(224),\n",
    "    transforms.ToTensor(),\n",
    "    transforms.Normalize([0.485, 0.456, 0.406],\n",
    "                         [0.229, 0.224, 0.225]),\n",
    "])\n",
    "\n",
    "# -----------------------\n",
    "# Stratified 80/20 split BEFORE training\n",
    "# -----------------------\n",
    "_for_split = datasets.ImageFolder(DATA_DIR, transform=transforms.ToTensor())\n",
    "labels_all = [lbl for _, lbl in _for_split.samples]\n",
    "\n",
    "sss = StratifiedShuffleSplit(n_splits=1, test_size=0.2, random_state=SEED)\n",
    "train_idx, test_idx = next(sss.split(np.zeros(len(labels_all)), labels_all))\n",
    "\n",
    "# -----------------------\n",
    "# SSL datasets/loaders with SAME indices\n",
    "# -----------------------\n",
    "ssl_dataset = datasets.ImageFolder(DATA_DIR, transform=TwoCropsTransform())\n",
    "train_ssl = Subset(ssl_dataset, train_idx)\n",
    "\n",
    "train_loader_ssl = DataLoader(\n",
    "    train_ssl,\n",
    "    batch_size=BATCH_SIZE,\n",
    "    shuffle=True,\n",
    "    drop_last=True,                 # BN stability\n",
    "    num_workers=NUM_WORKERS,\n",
    "    pin_memory=True\n",
    ")\n",
    "\n",
    "# -----------------------\n",
    "# Encoder & Heads\n",
    "# -----------------------\n",
    "class Encoder(nn.Module):\n",
    "    def __init__(self, use_imagenet=True):\n",
    "        super().__init__()\n",
    "        if use_imagenet:\n",
    "            try:\n",
    "                base = models.resnet50(weights=models.ResNet50_Weights.IMAGENET1K_V2)\n",
    "            except Exception:\n",
    "                base = models.resnet50(pretrained=True)\n",
    "        else:\n",
    "            base = models.resnet50(weights=None)\n",
    "        self.backbone = nn.Sequential(*list(base.children())[:-1])  # (B, 2048, 1, 1)\n",
    "        self.feature_dim = 2048\n",
    "    def forward(self, x):\n",
    "        x = self.backbone(x)\n",
    "        return torch.flatten(x, 1)                                   # (B, 2048)\n",
    "\n",
    "class MLP(nn.Module):\n",
    "    def __init__(self, in_dim, hidden_dim, out_dim, bn_last=False):\n",
    "        super().__init__()\n",
    "        layers = [\n",
    "            nn.Linear(in_dim, hidden_dim),\n",
    "            nn.BatchNorm1d(hidden_dim),\n",
    "            nn.ReLU(inplace=True),\n",
    "            nn.Linear(hidden_dim, out_dim),\n",
    "        ]\n",
    "        if bn_last:\n",
    "            layers.append(nn.BatchNorm1d(out_dim, affine=False))\n",
    "        self.net = nn.Sequential(*layers)\n",
    "    def forward(self, x):\n",
    "        return self.net(x)\n",
    "\n",
    "# -----------------------\n",
    "# SimCLR model\n",
    "# -----------------------\n",
    "class SimCLR(nn.Module):\n",
    "    def __init__(self, encoder, proj_dim=256, hidden=2048):\n",
    "        super().__init__()\n",
    "        self.encoder = encoder\n",
    "        self.projector = MLP(encoder.feature_dim, hidden, proj_dim, bn_last=True)\n",
    "    def forward(self, x1, x2):\n",
    "        h1 = self.encoder(x1)\n",
    "        h2 = self.encoder(x2)\n",
    "        z1 = self.projector(h1)\n",
    "        z2 = self.projector(h2)\n",
    "        return z1, z2\n",
    "\n",
    "# ---- FP16-safe InfoNCE (compute logits in float32) ----\n",
    "def nt_xent_loss(z1, z2, temperature=0.2):\n",
    "    \"\"\"\n",
    "    Compute SimCLR NT-Xent loss in float32 to avoid fp16 overflow on large negative masks.\n",
    "    \"\"\"\n",
    "    b = z1.size(0)\n",
    "    z1 = F.normalize(z1, dim=1).float()\n",
    "    z2 = F.normalize(z2, dim=1).float()\n",
    "    z = torch.cat([z1, z2], dim=0)                                   # (2B, d) float32\n",
    "    sim = torch.matmul(z, z.T) / float(temperature)                  # (2B, 2B) float32\n",
    "    mask = torch.eye(2*b, device=z.device, dtype=torch.bool)\n",
    "    sim = sim.masked_fill(mask, float('-inf'))\n",
    "    targets = torch.arange(2*b, device=z.device)\n",
    "    targets = (targets + b) % (2*b)\n",
    "    loss = F.cross_entropy(sim, targets)                             # fp32 CE\n",
    "    return loss\n",
    "\n",
    "# -----------------------\n",
    "# SimCLR Pretraining\n",
    "# -----------------------\n",
    "encoder = Encoder(use_imagenet=USE_IMAGENET_WEIGHTS).to(DEVICE)\n",
    "simclr = SimCLR(encoder).to(DEVICE)\n",
    "\n",
    "ssl_optimizer = torch.optim.AdamW(simclr.parameters(), lr=SIMCLR_LR, weight_decay=SIMCLR_WEIGHT_DECAY)\n",
    "ssl_sched = torch.optim.lr_scheduler.CosineAnnealingLR(ssl_optimizer, T_max=SIMCLR_EPOCHS)\n",
    "scaler = torch.cuda.amp.GradScaler(enabled=(DEVICE.type == 'cuda'))\n",
    "\n",
    "for epoch in range(SIMCLR_EPOCHS):\n",
    "    simclr.train()\n",
    "    running = 0.0\n",
    "    pbar = tqdm(train_loader_ssl, desc=f\"SimCLR Epoch {epoch+1}/{SIMCLR_EPOCHS}\")\n",
    "    for (v1, v2), _ in pbar:                                          # ((view1, view2), label)\n",
    "        x1 = v1.to(DEVICE, non_blocking=True)\n",
    "        x2 = v2.to(DEVICE, non_blocking=True)\n",
    "        with torch.cuda.amp.autocast(enabled=(DEVICE.type == 'cuda')):\n",
    "            z1, z2 = simclr(x1, x2)\n",
    "            loss = nt_xent_loss(z1, z2, temperature=TEMPERATURE)\n",
    "        ssl_optimizer.zero_grad(set_to_none=True)\n",
    "        scaler.scale(loss).backward()\n",
    "        scaler.step(ssl_optimizer)\n",
    "        scaler.update()\n",
    "        running += loss.item()\n",
    "        pbar.set_postfix(loss=f\"{running / (pbar.n or 1):.4f}\")\n",
    "    epoch_loss = running / len(train_loader_ssl)\n",
    "    simclr_loss_hist.append(epoch_loss)\n",
    "    ssl_sched.step()\n",
    "    print(f\"SimCLR Epoch {epoch+1}: loss={epoch_loss:.4f}\")\n",
    "\n",
    "# Save encoder after SimCLR pretrain\n",
    "enc_path = os.path.join(SAVE_DIR, \"simclr_encoder.pth\")\n",
    "torch.save(simclr.encoder.state_dict(), enc_path)\n",
    "print(f\"Saved SimCLR encoder to: {enc_path}\")\n",
    "\n",
    "# -----------------------\n",
    "# Supervised Fine-Tuning (NO FREEZING) + EMA + MixUp\n",
    "# -----------------------\n",
    "sup_train_ds = datasets.ImageFolder(DATA_DIR, transform=supervised_train_tf)\n",
    "sup_test_ds  = datasets.ImageFolder(DATA_DIR, transform=eval_tf)\n",
    "num_classes = len(sup_train_ds.classes)\n",
    "\n",
    "train_sup = Subset(sup_train_ds, train_idx)\n",
    "test_sup  = Subset(sup_test_ds,  test_idx)\n",
    "\n",
    "train_loader_sup = DataLoader(\n",
    "    train_sup, batch_size=BATCH_SIZE, shuffle=True,\n",
    "    num_workers=NUM_WORKERS, pin_memory=True\n",
    ")\n",
    "test_loader_sup = DataLoader(\n",
    "    test_sup, batch_size=BATCH_SIZE, shuffle=False,\n",
    "    num_workers=NUM_WORKERS, pin_memory=True\n",
    ")\n",
    "\n",
    "class SupModel(nn.Module):\n",
    "    def __init__(self, encoder, num_classes):\n",
    "        super().__init__()\n",
    "        self.encoder = encoder\n",
    "        self.head = nn.Linear(encoder.feature_dim, num_classes)\n",
    "    def forward(self, x):\n",
    "        feats = self.encoder(x)                                       # (B, 2048)\n",
    "        return self.head(feats)\n",
    "\n",
    "finetune_encoder = Encoder(use_imagenet=USE_IMAGENET_WEIGHTS).to(DEVICE)\n",
    "finetune_encoder.load_state_dict(torch.load(enc_path, map_location=DEVICE))\n",
    "sup_model = SupModel(finetune_encoder, num_classes).to(DEVICE)\n",
    "\n",
    "param_groups = [\n",
    "    {\"params\": sup_model.encoder.parameters(), \"lr\": FT_LR_BACKBONE, \"weight_decay\": FT_WEIGHT_DECAY},\n",
    "    {\"params\": sup_model.head.parameters(),    \"lr\": FT_LR_HEAD,     \"weight_decay\": FT_WEIGHT_DECAY},\n",
    "]\n",
    "ft_optimizer = torch.optim.AdamW(param_groups)\n",
    "ft_sched = torch.optim.lr_scheduler.CosineAnnealingLR(ft_optimizer, T_max=FINETUNE_EPOCHS)\n",
    "\n",
    "# --- MixUp helpers ---\n",
    "def one_hot_with_smoothing(y, num_classes, eps=0.0):\n",
    "    y = y.view(-1)\n",
    "    oh = torch.zeros(y.size(0), num_classes, device=y.device)\n",
    "    oh.scatter_(1, y.unsqueeze(1), 1.0)\n",
    "    if eps > 0:\n",
    "        oh = oh * (1 - eps) + eps / num_classes\n",
    "    return oh\n",
    "\n",
    "def mixup_data(x, y, alpha=0.2, num_classes=1000, eps=0.0):\n",
    "    if alpha <= 0:\n",
    "        return x, one_hot_with_smoothing(y, num_classes, eps), 1.0\n",
    "    lam = np.random.beta(alpha, alpha)\n",
    "    index = torch.randperm(x.size(0), device=x.device)\n",
    "    x_mix = lam * x + (1 - lam) * x[index]\n",
    "    y1 = one_hot_with_smoothing(y, num_classes, eps)\n",
    "    y2 = y1[index]\n",
    "    y_mix = lam * y1 + (1 - lam) * y2\n",
    "    return x_mix, y_mix, lam\n",
    "\n",
    "def soft_cross_entropy(logits, target_prob):\n",
    "    log_prob = F.log_softmax(logits, dim=1)\n",
    "    return -(target_prob * log_prob).sum(dim=1).mean()\n",
    "\n",
    "# --- EMA for fine-tune ---\n",
    "class EMA:\n",
    "    def __init__(self, model, decay=0.999):\n",
    "        self.decay = decay\n",
    "        self.shadow = {k: v.detach().clone()\n",
    "                       for k, v in model.state_dict().items()\n",
    "                       if v.dtype.is_floating_point}\n",
    "    @torch.no_grad()\n",
    "    def update(self, model):\n",
    "        for k, v in model.state_dict().items():\n",
    "            if k in self.shadow and v.dtype.is_floating_point:\n",
    "                self.shadow[k].mul_(self.decay).add_(v.detach(), alpha=1 - self.decay)\n",
    "    @torch.no_grad()\n",
    "    def copy_to(self, model):\n",
    "        sd = model.state_dict()\n",
    "        for k, v in self.shadow.items():\n",
    "            sd[k].copy_(v)\n",
    "\n",
    "ema = EMA(sup_model, decay=EMA_DECAY) if USE_EMA else None\n",
    "\n",
    "scaler_ft = torch.cuda.amp.GradScaler(enabled=(DEVICE.type == 'cuda'))\n",
    "\n",
    "def accuracy_top1(logits, targets):\n",
    "    return (logits.argmax(dim=1) == targets).float().mean().item()\n",
    "\n",
    "def predict_tta(model, x):\n",
    "    # flip TTA\n",
    "    logits1 = model(x)\n",
    "    logits2 = model(torch.flip(x, dims=[3]))  # horizontal flip\n",
    "    return (logits1 + logits2) / 2\n",
    "\n",
    "best_acc = 0.0\n",
    "best_path = os.path.join(SAVE_DIR, \"simclr_finetune_best.pt\")\n",
    "\n",
    "for epoch in range(FINETUNE_EPOCHS):\n",
    "    sup_model.train()\n",
    "    run_loss, run_acc = 0.0, 0.0\n",
    "    for x, y in tqdm(train_loader_sup, desc=f\"FT Epoch {epoch+1}/{FINETUNE_EPOCHS}\"):\n",
    "        x, y = x.to(DEVICE, non_blocking=True), y.to(DEVICE, non_blocking=True)\n",
    "\n",
    "        if USE_MIXUP:\n",
    "            x_in, y_soft, _ = mixup_data(x, y, alpha=MIXUP_ALPHA, num_classes=num_classes, eps=LABEL_SMOOTH)\n",
    "        else:\n",
    "            x_in, y_soft = x, one_hot_with_smoothing(y, num_classes, eps=LABEL_SMOOTH)\n",
    "\n",
    "        with torch.cuda.amp.autocast(enabled=(DEVICE.type == 'cuda')):\n",
    "            logits = sup_model(x_in)\n",
    "            loss = soft_cross_entropy(logits, y_soft)\n",
    "\n",
    "        ft_optimizer.zero_grad(set_to_none=True)\n",
    "        scaler_ft.scale(loss).backward()\n",
    "        torch.nn.utils.clip_grad_norm_(sup_model.parameters(), 5.0)\n",
    "        scaler_ft.step(ft_optimizer)\n",
    "        scaler_ft.update()\n",
    "\n",
    "        if USE_EMA:\n",
    "            ema.update(sup_model)\n",
    "\n",
    "        # track training accuracy on *non-mixed* view for readability\n",
    "        with torch.no_grad():\n",
    "            logits_nomix = sup_model(x)\n",
    "            run_acc += accuracy_top1(logits_nomix, y)\n",
    "\n",
    "        run_loss += loss.item()\n",
    "\n",
    "    epoch_train_loss = run_loss / len(train_loader_sup)\n",
    "    epoch_train_acc  = run_acc  / len(train_loader_sup)\n",
    "    ft_loss_hist.append(epoch_train_loss)\n",
    "    ft_acc_hist.append(epoch_train_acc)\n",
    "    ft_sched.step()\n",
    "    print(f\"[FT] Epoch {epoch+1}: loss={epoch_train_loss:.4f} | acc={epoch_train_acc:.4f}\")\n",
    "\n",
    "    # --- Eval each epoch with EMA (if enabled) + TTA ---\n",
    "    sup_model.eval()\n",
    "    # backup current floating weights\n",
    "    backup = {k: v.detach().clone() for k, v in sup_model.state_dict().items() if v.dtype.is_floating_point}\n",
    "    if USE_EMA:\n",
    "        ema.copy_to(sup_model)\n",
    "\n",
    "    correct, total = 0, 0\n",
    "    with torch.no_grad():\n",
    "        for x, y in test_loader_sup:\n",
    "            x, y = x.to(DEVICE, non_blocking=True), y.to(DEVICE, non_blocking=True)\n",
    "            if USE_TTA:\n",
    "                logits = predict_tta(sup_model, x)\n",
    "            else:\n",
    "                logits = sup_model(x)\n",
    "            pred = logits.argmax(dim=1)\n",
    "            correct += (pred == y).sum().item()\n",
    "            total += y.numel()\n",
    "    epoch_acc = correct / max(total, 1)\n",
    "    val_acc_hist.append(epoch_acc)\n",
    "\n",
    "    # restore original weights after eval\n",
    "    sd = sup_model.state_dict()\n",
    "    for k, v in backup.items():\n",
    "        sd[k].copy_(v)\n",
    "\n",
    "    # save best (EMA-TTA) checkpoint\n",
    "    if epoch_acc > best_acc:\n",
    "        best_acc = epoch_acc\n",
    "        # save an EMA snapshot if enabled, else current weights\n",
    "        if USE_EMA:\n",
    "            ema.copy_to(sup_model)\n",
    "            torch.save(sup_model.state_dict(), best_path)\n",
    "            # restore again for next epoch training\n",
    "            for k, v in backup.items():\n",
    "                sd[k].copy_(v)\n",
    "        else:\n",
    "            torch.save(sup_model.state_dict(), best_path)\n",
    "\n",
    "    print(f\"[Eval] top1={epoch_acc:.4f} (best={best_acc:.4f})\")\n",
    "\n",
    "# -----------------------\n",
    "# Final evaluation on held-out 20% (using best checkpoint, EMA if enabled)\n",
    "# -----------------------\n",
    "# Load fresh model for clean eval\n",
    "finetune_encoder = Encoder(use_imagenet=USE_IMAGENET_WEIGHTS).to(DEVICE)\n",
    "finetune_encoder.load_state_dict(torch.load(enc_path, map_location=DEVICE))\n",
    "sup_model = SupModel(finetune_encoder, num_classes).to(DEVICE)\n",
    "sup_model.load_state_dict(torch.load(best_path, map_location=DEVICE))\n",
    "sup_model.eval()\n",
    "\n",
    "y_true, y_pred = [], []\n",
    "with torch.no_grad():\n",
    "    for x, y in test_loader_sup:\n",
    "        x = x.to(DEVICE, non_blocking=True)\n",
    "        logits = predict_tta(sup_model, x) if USE_TTA else sup_model(x)\n",
    "        preds = torch.argmax(logits, dim=1).cpu().numpy()\n",
    "        y_pred.extend(preds)\n",
    "        y_true.extend(y.numpy())\n",
    "\n",
    "print(\"\\n=== SimCLR -> End-to-End Fine-Tune: Held-out Test ===\")\n",
    "print(classification_report(y_true, y_pred, digits=4))\n",
    "\n",
    "cm = confusion_matrix(y_true, y_pred)\n",
    "plt.figure(figsize=(12, 10))\n",
    "sns.heatmap(cm, annot=True, fmt='d', cmap='Greens')\n",
    "plt.title(\"Confusion Matrix (SimCLR Fine-Tune, EMA+MixUp+TTA)\")\n",
    "plt.xlabel(\"Predicted\"); plt.ylabel(\"True\")\n",
    "plt.tight_layout(); plt.savefig(os.path.join(SAVE_DIR, \"simclr_confusion_matrix.png\"), dpi=150)\n",
    "plt.show()\n",
    "\n",
    "# -----------------------\n",
    "# Curves: pretrain loss & fine-tune loss/accuracy\n",
    "# -----------------------\n",
    "plt.figure(figsize=(7,4))\n",
    "plt.plot(simclr_loss_hist, marker='o')\n",
    "plt.title(\"SimCLR Pretraining Loss\")\n",
    "plt.xlabel(\"Epoch\"); plt.ylabel(\"Loss\")\n",
    "plt.grid(True, alpha=0.3)\n",
    "plt.tight_layout()\n",
    "plt.savefig(os.path.join(SAVE_DIR, \"simclr_pretrain_loss.png\"), dpi=150)\n",
    "plt.show()\n",
    "\n",
    "fig, ax = plt.subplots(1, 3, figsize=(18,4))\n",
    "ax[0].plot(ft_loss_hist, marker='o')\n",
    "ax[0].set_title(\"Fine-tune Loss\"); ax[0].set_xlabel(\"Epoch\"); ax[0].set_ylabel(\"Loss\"); ax[0].grid(True, alpha=0.3)\n",
    "\n",
    "ax[1].plot(ft_acc_hist, marker='o', label='Train')\n",
    "ax[1].plot(val_acc_hist, marker='s', label='Val (EMA+TTA)')\n",
    "ax[1].set_title(\"Accuracy\"); ax[1].set_xlabel(\"Epoch\"); ax[1].set_ylabel(\"Top-1 Acc\"); ax[1].grid(True, alpha=0.3); ax[1].legend()\n",
    "\n",
    "ax[2].plot(simclr_loss_hist, marker='o')\n",
    "ax[2].set_title(\"Pretrain Loss\"); ax[2].set_xlabel(\"Epoch\"); ax[2].set_ylabel(\"Loss\"); ax[2].grid(True, alpha=0.3)\n",
    "\n",
    "plt.tight_layout()\n",
    "fig.savefig(os.path.join(SAVE_DIR, \"simclr_training_curves.png\"), dpi=150)\n",
    "plt.show()\n"
   ]
  },
  {
   "cell_type": "code",
   "execution_count": null,
   "id": "d28237b3",
   "metadata": {
    "papermill": {
     "duration": 2.306753,
     "end_time": "2025-08-18T13:14:43.222644",
     "exception": false,
     "start_time": "2025-08-18T13:14:40.915891",
     "status": "completed"
    },
    "tags": []
   },
   "outputs": [],
   "source": []
  },
  {
   "cell_type": "code",
   "execution_count": null,
   "id": "42f4b9c0",
   "metadata": {
    "papermill": {
     "duration": 2.46018,
     "end_time": "2025-08-18T13:14:48.301340",
     "exception": false,
     "start_time": "2025-08-18T13:14:45.841160",
     "status": "completed"
    },
    "tags": []
   },
   "outputs": [],
   "source": []
  }
 ],
 "metadata": {
  "kaggle": {
   "accelerator": "none",
   "dataSources": [
    {
     "datasetId": 7781746,
     "sourceId": 12343816,
     "sourceType": "datasetVersion"
    }
   ],
   "isGpuEnabled": false,
   "isInternetEnabled": true,
   "language": "python",
   "sourceType": "notebook"
  },
  "kernelspec": {
   "display_name": "Python 3",
   "language": "python",
   "name": "python3"
  },
  "language_info": {
   "codemirror_mode": {
    "name": "ipython",
    "version": 3
   },
   "file_extension": ".py",
   "mimetype": "text/x-python",
   "name": "python",
   "nbconvert_exporter": "python",
   "pygments_lexer": "ipython3",
   "version": "3.11.13"
  },
  "papermill": {
   "default_parameters": {},
   "duration": 23183.693727,
   "end_time": "2025-08-18T13:14:53.303163",
   "environment_variables": {},
   "exception": null,
   "input_path": "__notebook__.ipynb",
   "output_path": "__notebook__.ipynb",
   "parameters": {},
   "start_time": "2025-08-18T06:48:29.609436",
   "version": "2.6.0"
  }
 },
 "nbformat": 4,
 "nbformat_minor": 5
}
